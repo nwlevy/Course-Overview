{
 "cells": [
  {
   "cell_type": "markdown",
   "metadata": {},
   "source": [
    "# Arrays\n",
    "\n",
    "The Python types we have seen so far are all built into Python; this means that they are automatically available when you start writing Python code. As with any modern language, however, programmers are always adding new functionality to Python and they often want to share their code with others.  The main way this is done is with packages.\n",
    "\n",
    "A package contains extra object types, functions, and variables that are not included in base Python. Some packages are specialized to niche applications, while others are so popular that nearly every coder uses them.\n",
    "\n",
    "One particular package, NumPy, sits as the foundation for scientific and data computing in Python. Many other data science packages are built on top of NumPy, so it is very important to understand its function.\n",
    "\n",
    "[NumPy](http://www.numpy.org/) is the core of the [PyData](http://pydata.org/) ecosystem.\n",
    "\n",
    "------\n",
    "\n",
    "*From the NumPy Website*\n",
    "\n",
    "NumPy is the fundamental package for scientific computing with Python. It contains among other things:\n",
    "\n",
    "- a powerful N-dimensional array object\n",
    "- sophisticated (broadcasting) functions\n",
    "- tools for integrating C/C++ and Fortran code\n",
    "- useful linear algebra, Fourier transform, and random number capabilities\n",
    "\n",
    "------\n",
    "\n",
    "We often use NumPy to work with data. In this notebook, we will begin introducing its functionality with a few simple examples.\n",
    "\n",
    "To use the functionality provided by a package, we first have to import it into our program.  This is done with the `import` keyword. At the point at which we import a package, we can also rename it with the `as` keyword. Traditionally, `numpy` is renamed `np`. The reason that we do this is that there is a convention in the PyData community to import data packages with shorter names.\n"
   ]
  },
  {
   "cell_type": "code",
   "execution_count": 1,
   "metadata": {},
   "outputs": [],
   "source": [
    "import numpy as np"
   ]
  },
  {
   "cell_type": "code",
   "execution_count": 3,
   "metadata": {},
   "outputs": [
    {
     "data": {
      "text/plain": [
       "array([ 0,  1,  2,  3,  4,  5,  6,  7,  8,  9, 10, 11, 12, 13, 14, 15, 16,\n",
       "       17, 18, 19])"
      ]
     },
     "execution_count": 3,
     "metadata": {},
     "output_type": "execute_result"
    }
   ],
   "source": [
    "np.arange(0,20)"
   ]
  },
  {
   "cell_type": "markdown",
   "metadata": {},
   "source": [
    "This should look pretty familiar; the `arange` function is analogous to the `range` function we saw earlier. Instead of returning a range, however, this function returns something we call an *array*.\n",
    "\n",
    "Arrays are similar to the sequences we saw earlier. For example, we can access items by their indices."
   ]
  },
  {
   "cell_type": "code",
   "execution_count": 4,
   "metadata": {},
   "outputs": [
    {
     "data": {
      "text/plain": [
       "array([ 0,  1, 12,  3,  4,  5,  6,  7,  8,  9, 10, 11, 12, 13, 14, 15, 16,\n",
       "       17, 18, 19])"
      ]
     },
     "execution_count": 4,
     "metadata": {},
     "output_type": "execute_result"
    }
   ],
   "source": [
    "my_array = np.arange(20)\n",
    "my_array[2] = 12\n",
    "my_array"
   ]
  },
  {
   "cell_type": "markdown",
   "metadata": {},
   "source": [
    "Arrays also have some unique characteristics.  For one thing, all the objects contained in an array must be the same type.  This may seem like a pesky restriction, but it allows arrays to work very efficiently on large amounts of data."
   ]
  },
  {
   "cell_type": "code",
   "execution_count": 5,
   "metadata": {},
   "outputs": [
    {
     "ename": "ValueError",
     "evalue": "invalid literal for int() with base 10: 'shoe'",
     "output_type": "error",
     "traceback": [
      "\u001b[1;31m---------------------------------------------------------------------------\u001b[0m",
      "\u001b[1;31mValueError\u001b[0m                                Traceback (most recent call last)",
      "\u001b[1;32m<ipython-input-5-7b56afc93f6f>\u001b[0m in \u001b[0;36m<module>\u001b[1;34m()\u001b[0m\n\u001b[1;32m----> 1\u001b[1;33m \u001b[0mmy_array\u001b[0m\u001b[1;33m[\u001b[0m\u001b[1;36m5\u001b[0m\u001b[1;33m]\u001b[0m \u001b[1;33m=\u001b[0m \u001b[1;34m\"shoe\"\u001b[0m\u001b[1;33m\u001b[0m\u001b[0m\n\u001b[0m",
      "\u001b[1;31mValueError\u001b[0m: invalid literal for int() with base 10: 'shoe'"
     ]
    }
   ],
   "source": [
    "my_array[5] = \"shoe\""
   ]
  },
  {
   "cell_type": "markdown",
   "metadata": {},
   "source": [
    "The data type of an array can be accessed through the `dtype` property; this will give us information about all the objects stored in the array. That means that you cannot change the type of an array once it is created (unless you work around this)."
   ]
  },
  {
   "cell_type": "code",
   "execution_count": 6,
   "metadata": {},
   "outputs": [
    {
     "data": {
      "text/plain": [
       "dtype('int32')"
      ]
     },
     "execution_count": 6,
     "metadata": {},
     "output_type": "execute_result"
    }
   ],
   "source": [
    "my_array.dtype"
   ]
  },
  {
   "cell_type": "markdown",
   "metadata": {},
   "source": [
    "In addition, once an array is created, its size is fixed. You cannot pop or append to an array because of the way that arrays allocate memory. The fixed size allows arrays to be optimized for high performance."
   ]
  },
  {
   "cell_type": "code",
   "execution_count": 7,
   "metadata": {},
   "outputs": [],
   "source": [
    "new_array = np.array([5,10,15,20])"
   ]
  },
  {
   "cell_type": "code",
   "execution_count": 8,
   "metadata": {},
   "outputs": [
    {
     "ename": "AttributeError",
     "evalue": "'numpy.ndarray' object has no attribute 'append'",
     "output_type": "error",
     "traceback": [
      "\u001b[1;31m---------------------------------------------------------------------------\u001b[0m",
      "\u001b[1;31mAttributeError\u001b[0m                            Traceback (most recent call last)",
      "\u001b[1;32m<ipython-input-8-6abe63df61d6>\u001b[0m in \u001b[0;36m<module>\u001b[1;34m()\u001b[0m\n\u001b[1;32m----> 1\u001b[1;33m \u001b[0mnew_array\u001b[0m\u001b[1;33m.\u001b[0m\u001b[0mappend\u001b[0m\u001b[1;33m(\u001b[0m\u001b[1;36m5\u001b[0m\u001b[1;33m)\u001b[0m\u001b[1;33m\u001b[0m\u001b[0m\n\u001b[0m",
      "\u001b[1;31mAttributeError\u001b[0m: 'numpy.ndarray' object has no attribute 'append'"
     ]
    }
   ],
   "source": [
    "new_array.append(5)"
   ]
  },
  {
   "cell_type": "code",
   "execution_count": 9,
   "metadata": {},
   "outputs": [
    {
     "ename": "AttributeError",
     "evalue": "'numpy.ndarray' object has no attribute 'pop'",
     "output_type": "error",
     "traceback": [
      "\u001b[1;31m---------------------------------------------------------------------------\u001b[0m",
      "\u001b[1;31mAttributeError\u001b[0m                            Traceback (most recent call last)",
      "\u001b[1;32m<ipython-input-9-429e7ee3d43f>\u001b[0m in \u001b[0;36m<module>\u001b[1;34m()\u001b[0m\n\u001b[1;32m----> 1\u001b[1;33m \u001b[0mnew_array\u001b[0m\u001b[1;33m.\u001b[0m\u001b[0mpop\u001b[0m\u001b[1;33m(\u001b[0m\u001b[1;33m)\u001b[0m\u001b[1;33m\u001b[0m\u001b[0m\n\u001b[0m",
      "\u001b[1;31mAttributeError\u001b[0m: 'numpy.ndarray' object has no attribute 'pop'"
     ]
    }
   ],
   "source": [
    "new_array.pop()"
   ]
  },
  {
   "cell_type": "markdown",
   "metadata": {},
   "source": [
    "You can see in the error messages that the arrays we are dealing with have type `'numpy.ndarray'`. This stands for *n*-dimensional array. We can make *n* anything that we want.\n",
    "\n",
    "For example, we can create a two-dimensional matrix with uniformly distributed random numbers between 0 and 1."
   ]
  },
  {
   "cell_type": "code",
   "execution_count": 10,
   "metadata": {},
   "outputs": [
    {
     "data": {
      "text/plain": [
       "array([[ 0.53213194,  0.78833583,  0.04883788,  0.08068214,  0.68151335],\n",
       "       [ 0.3992015 ,  0.47948699,  0.25159279,  0.80335297,  0.17751489],\n",
       "       [ 0.60438784,  0.13031622,  0.95772251,  0.98604316,  0.11710906],\n",
       "       [ 0.17657008,  0.35091145,  0.34079237,  0.87883926,  0.17940821],\n",
       "       [ 0.35539237,  0.02209358,  0.21319402,  0.48260004,  0.78825158]])"
      ]
     },
     "execution_count": 10,
     "metadata": {},
     "output_type": "execute_result"
    }
   ],
   "source": [
    "np.random.rand(5,5)"
   ]
  },
  {
   "cell_type": "markdown",
   "metadata": {},
   "source": [
    "Or we can create a three-dimensional cube of numbers."
   ]
  },
  {
   "cell_type": "code",
   "execution_count": 11,
   "metadata": {},
   "outputs": [
    {
     "data": {
      "text/plain": [
       "array([[[ 0.29673153,  0.95028974,  0.80067056,  0.81794448,  0.34279248],\n",
       "        [ 0.70050218,  0.79681046,  0.87023653,  0.005442  ,  0.22114575],\n",
       "        [ 0.27682551,  0.03723788,  0.27336624,  0.50118764,  0.77893825],\n",
       "        [ 0.39203689,  0.46443688,  0.50893513,  0.20962414,  0.4905945 ],\n",
       "        [ 0.46044599,  0.88999951,  0.19719419,  0.56107847,  0.61905765]],\n",
       "\n",
       "       [[ 0.74954903,  0.45601239,  0.27097023,  0.42623015,  0.92183735],\n",
       "        [ 0.93539533,  0.79212608,  0.66763186,  0.24661228,  0.74695069],\n",
       "        [ 0.36616563,  0.22157885,  0.28099427,  0.34398583,  0.02330267],\n",
       "        [ 0.5668486 ,  0.2345448 ,  0.43713982,  0.6896519 ,  0.55352635],\n",
       "        [ 0.6520562 ,  0.07880135,  0.18438808,  0.28362607,  0.40248748]],\n",
       "\n",
       "       [[ 0.73832234,  0.39041146,  0.79892787,  0.74871752,  0.2993775 ],\n",
       "        [ 0.27748481,  0.15473683,  0.57016651,  0.83586862,  0.79944188],\n",
       "        [ 0.23568617,  0.93135509,  0.24102413,  0.73550994,  0.53327061],\n",
       "        [ 0.54525842,  0.89167023,  0.39179602,  0.98533531,  0.5254522 ],\n",
       "        [ 0.9446462 ,  0.05319111,  0.59308212,  0.42963682,  0.16224736]],\n",
       "\n",
       "       [[ 0.47620926,  0.27680412,  0.4882498 ,  0.34724191,  0.68128969],\n",
       "        [ 0.47322262,  0.33114182,  0.95308205,  0.13056965,  0.95508642],\n",
       "        [ 0.8936095 ,  0.28303332,  0.66119745,  0.64867712,  0.5219046 ],\n",
       "        [ 0.72018599,  0.90345329,  0.76641652,  0.81990356,  0.26846229],\n",
       "        [ 0.13888533,  0.78041503,  0.76475294,  0.53695437,  0.75167085]],\n",
       "\n",
       "       [[ 0.41744206,  0.95768805,  0.0700996 ,  0.16780071,  0.67920344],\n",
       "        [ 0.71136235,  0.7084043 ,  0.35382431,  0.74452666,  0.70602923],\n",
       "        [ 0.90806843,  0.90930445,  0.02204129,  0.25828743,  0.66648001],\n",
       "        [ 0.81467409,  0.57915756,  0.67875109,  0.92534173,  0.66660573],\n",
       "        [ 0.16915504,  0.88753557,  0.4884072 ,  0.78068504,  0.99542371]]])"
      ]
     },
     "execution_count": 11,
     "metadata": {},
     "output_type": "execute_result"
    }
   ],
   "source": [
    "np.random.rand(5,5,5)"
   ]
  },
  {
   "cell_type": "markdown",
   "metadata": {},
   "source": [
    "We can keep going to higher and higher dimensional spaces, but doing so is outside the scope of this course."
   ]
  },
  {
   "cell_type": "markdown",
   "metadata": {},
   "source": [
    "The random numbers we generated above were drawn from a uniform probability distribution. This is a very simple distribution, equal to 1, between 0 and 1, and 0 everywhere else. NumPy gives us many other distributions to work with, however."
   ]
  },
  {
   "cell_type": "code",
   "execution_count": 12,
   "metadata": {
    "collapsed": true
   },
   "outputs": [],
   "source": [
    "np.random?"
   ]
  },
  {
   "cell_type": "markdown",
   "metadata": {},
   "source": [
    "We can see that there are a variety of functions at our disposal. Let's get some uniformly distributed random variables."
   ]
  },
  {
   "cell_type": "code",
   "execution_count": 13,
   "metadata": {},
   "outputs": [
    {
     "data": {
      "text/plain": [
       "array([-1.79767315,  1.63504499,  0.76731853, -0.71642913, -0.52460605,\n",
       "        0.35149042,  0.53238138, -0.9646751 ,  1.78116813, -2.08130194,\n",
       "       -0.08504974,  0.31879975,  0.64890691,  0.69203253,  0.75930923,\n",
       "       -0.00802257,  1.70288213,  1.91317302, -0.62440868,  0.55400872])"
      ]
     },
     "execution_count": 13,
     "metadata": {},
     "output_type": "execute_result"
    }
   ],
   "source": [
    "np.random.randn(20)"
   ]
  },
  {
   "cell_type": "markdown",
   "metadata": {},
   "source": [
    "Now that we have this array of normal random variables, let's reshape it into a matrix. This is done with the reshape method."
   ]
  },
  {
   "cell_type": "code",
   "execution_count": 14,
   "metadata": {},
   "outputs": [],
   "source": [
    "ar = np.random.randn(20).reshape(5,4)"
   ]
  },
  {
   "cell_type": "code",
   "execution_count": 15,
   "metadata": {},
   "outputs": [
    {
     "data": {
      "text/plain": [
       "array([[ 0.49155119,  0.91640431, -0.482554  , -0.54254211],\n",
       "       [-0.68275258, -0.08342848,  1.32830304, -0.23701453],\n",
       "       [ 0.20558534,  1.12478702, -0.12429789, -0.33895809],\n",
       "       [ 0.98461543,  0.63671551,  1.52641052, -1.70895397],\n",
       "       [ 0.90807501,  0.52252461,  0.19120476,  0.07466844]])"
      ]
     },
     "execution_count": 15,
     "metadata": {},
     "output_type": "execute_result"
    }
   ],
   "source": [
    "ar"
   ]
  },
  {
   "cell_type": "markdown",
   "metadata": {},
   "source": [
    "When you are working with data, you will often need to calculate some statistics from it. NumPy arrays have a lot of integrated common statistical functions.  To see an example, let's get the mean of our array."
   ]
  },
  {
   "cell_type": "code",
   "execution_count": 16,
   "metadata": {},
   "outputs": [
    {
     "data": {
      "text/plain": [
       "0.23551717653791843"
      ]
     },
     "execution_count": 16,
     "metadata": {},
     "output_type": "execute_result"
    }
   ],
   "source": [
    "ar.mean()"
   ]
  },
  {
   "cell_type": "markdown",
   "metadata": {},
   "source": [
    "The standard deviation is just as easy."
   ]
  },
  {
   "cell_type": "code",
   "execution_count": 17,
   "metadata": {},
   "outputs": [
    {
     "data": {
      "text/plain": [
       "0.77446067208642078"
      ]
     },
     "execution_count": 17,
     "metadata": {},
     "output_type": "execute_result"
    }
   ],
   "source": [
    "ar.std()"
   ]
  },
  {
   "cell_type": "markdown",
   "metadata": {},
   "source": [
    "Sometimes we will want to do these operations on each column or on each row. Doing so is still easy."
   ]
  },
  {
   "cell_type": "markdown",
   "metadata": {},
   "source": [
    "Here are the means of each column."
   ]
  },
  {
   "cell_type": "code",
   "execution_count": 18,
   "metadata": {},
   "outputs": [
    {
     "data": {
      "text/plain": [
       "array([ 0.38141488,  0.62340059,  0.48781329, -0.55056005])"
      ]
     },
     "execution_count": 18,
     "metadata": {},
     "output_type": "execute_result"
    }
   ],
   "source": [
    "ar.mean(axis=0)"
   ]
  },
  {
   "cell_type": "markdown",
   "metadata": {},
   "source": [
    "Here are the means of each row."
   ]
  },
  {
   "cell_type": "code",
   "execution_count": 19,
   "metadata": {},
   "outputs": [
    {
     "data": {
      "text/plain": [
       "array([ 0.09571485,  0.08127686,  0.21677909,  0.35969687,  0.42411821])"
      ]
     },
     "execution_count": 19,
     "metadata": {},
     "output_type": "execute_result"
    }
   ],
   "source": [
    "ar.mean(axis=1)"
   ]
  },
  {
   "cell_type": "markdown",
   "metadata": {},
   "source": [
    "This lesson has only begun to scratch the surface of NumPy's capabilities.  The NumPy library is huge, and no one class could truly cover all of it. Additionally, NumPy has a partner library, SciPy (which stands for *scientific Python*), that builds on NumPy and adds a great deal of advanced functionality. We will return to NumPy later in this course. You will learn more about SciPy as you continue through the data science program."
   ]
  }
 ],
 "metadata": {
  "kernelspec": {
   "display_name": "Python 3",
   "language": "python",
   "name": "python3"
  },
  "language_info": {
   "codemirror_mode": {
    "name": "ipython",
    "version": 3
   },
   "file_extension": ".py",
   "mimetype": "text/x-python",
   "name": "python",
   "nbconvert_exporter": "python",
   "pygments_lexer": "ipython3",
   "version": "3.6.1"
  }
 },
 "nbformat": 4,
 "nbformat_minor": 1
}
