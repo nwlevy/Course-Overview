{
 "cells": [
  {
   "cell_type": "markdown",
   "metadata": {},
   "source": [
    "1. Write a script that prompts the user for his or her name. Using a loop that counts downward, print the name with the letters reversed. You may use `s.lower()` and `s.upper()` to change a string `s` to lowercase and uppercase letters.\n",
    "```\n",
    "Enter your name: Paul \n",
    "Luap\n",
    "```\n",
    "If the name is the same forward and backwards, print \"Palindrome!\" on the next line.\n",
    "```\n",
    "Enter your name: Ana \n",
    "Ana \n",
    "Palindrome!\n",
    "```"
   ]
  },
  {
   "cell_type": "code",
   "execution_count": 15,
   "metadata": {},
   "outputs": [
    {
     "name": "stdout",
     "output_type": "stream",
     "text": [
      "Enter your name: Kilik\n",
      "Kilik\n",
      "Palindrome!\n"
     ]
    }
   ],
   "source": [
    "name = input(\"Enter your name: \")\n",
    "name_length=len(name)\n",
    "reversed_name=[]\n",
    "i=name_length-1\n",
    "while i >=0:\n",
    "    if i==name_length-1:\n",
    "        reversed_name.append(name[i].upper())\n",
    "    elif i==0:\n",
    "        reversed_name.append(name[i].lower())\n",
    "    else:\n",
    "        reversed_name.append(name[i])\n",
    "    i=i-1\n",
    "reversed_name_str=''.join(reversed_name)\n",
    "print(reversed_name_str) \n",
    "if reversed_name_str==name:\n",
    "    print(\"Palindrome!\")\n",
    "\n"
   ]
  },
  {
   "cell_type": "markdown",
   "metadata": {},
   "source": [
    "2. Write a script that prompts the user for an integer tree size, then displays a number tree as shown below:\n",
    "\n",
    "Enter a size: 5 \n",
    "```\n",
    "    1\n",
    "   121\n",
    "  12321\n",
    " 1234321 \n",
    "123454321\n",
    "```"
   ]
  },
  {
   "cell_type": "code",
   "execution_count": 12,
   "metadata": {},
   "outputs": [
    {
     "name": "stdout",
     "output_type": "stream",
     "text": [
      "Enter a size: 10\n",
      "         1         \n",
      "        121        \n",
      "       12321       \n",
      "      1234321      \n",
      "     123454321     \n",
      "    12345654321    \n",
      "   1234567654321   \n",
      "  123456787654321  \n",
      " 12345678987654321 \n",
      "12345678910987654321\n"
     ]
    }
   ],
   "source": [
    "#import sys\n",
    "n = int(input(\"Enter a size: \"))\n",
    "i=1\n",
    "size=n-1\n",
    "while i<=n:\n",
    "    print(\" \"*size,end=\"\")\n",
    "    j=1\n",
    "    while j<=i:\n",
    "        #sys.stdout.write(j)\n",
    "        print(j,end=\"\")\n",
    "        j+=1\n",
    "    k=i-1\n",
    "    while k>0:\n",
    "        #sys.stdout.write(k)\n",
    "        print(k,end=\"\")\n",
    "        k-=1\n",
    "    print(\" \"*size,end=\"\")\n",
    "    size-=1\n",
    "    i+=1\n",
    "    #sys.stdout.write('\\n')\n",
    "    print(\"\")"
   ]
  },
  {
   "cell_type": "markdown",
   "metadata": {},
   "source": [
    "3. The Fibonacci numbers begin with 1, 1.  After the first two numbers, each number is the sum of the previous two. 1 + 1 = 2, so 2 is the third number. Then 1 + 2 = 3, so 3 is the next one, and so on. Write a script that prompts the user for a number, then prints all the Fibonacci numbers that are less than or equal to the input, in order.\n",
    "\n",
    "```\n",
    "Enter a number: 15\n",
    "1 1 2 3 5 8 13\n",
    "```"
   ]
  },
  {
   "cell_type": "code",
   "execution_count": 31,
   "metadata": {},
   "outputs": [
    {
     "name": "stdout",
     "output_type": "stream",
     "text": [
      "Enter a number: 7\n",
      "1 1 2 3 5 "
     ]
    }
   ],
   "source": [
    "n = int(input(\"Enter a number: \"))\n",
    "if n<=0:\n",
    "    print(\"no fibonacci numbers\")\n",
    "elif n==1:\n",
    "    print(1)\n",
    "else:    \n",
    "    i=1\n",
    "    index=1\n",
    "    seq=[1]\n",
    "    print(1,end=\" \")\n",
    "    while i<=n:\n",
    "        seq.append(i)\n",
    "        i=seq[index-1]+seq[index]\n",
    "        print(seq[index],end=\" \")\n",
    "        index+=1\n",
    "\n",
    "\n",
    "        "
   ]
  },
  {
   "cell_type": "markdown",
   "metadata": {},
   "source": [
    "Pascal's triangle is a triangle of numbers that is computed as follows.  The first row contains a 1.  Each row after that begins and ends with a 1, and every other number is the sum of the two numbers above it.  The first six rows of Pascal's triangle are shown below.\n",
    "```\n",
    "      1\n",
    "     1 1\n",
    "    1 2 1\n",
    "  1  3 3  1\n",
    " 1 4  6  4 1\n",
    "1 5 10 10 5 1\n",
    "```\n",
    "Write a script to compute the *n*th row of Pascal's triangle."
   ]
  },
  {
   "cell_type": "code",
   "execution_count": 51,
   "metadata": {},
   "outputs": [
    {
     "name": "stdout",
     "output_type": "stream",
     "text": [
      "Enter a number: 6\n",
      "[1, 5, 10, 10, 5, 1]\n"
     ]
    }
   ],
   "source": [
    "n = int(input(\"Enter a number: \"))\n",
    "'''indent=3\n",
    "row_num=3\n",
    "triangle=[[1],[1,1]]\n",
    "    while row_num<=n:\n",
    "        row=[]\n",
    "        print(\" \"*(indent),1)\n",
    "        i=1\n",
    "        while i<=indent:\n",
    "            row.append(\" \")\n",
    "        print(1,end=\"\")\n",
    "        row.append(1)\n",
    "        j=1\n",
    "        while j<row:\n",
    "            print(triangle[(row_num-2)][]\n",
    "'''\n",
    "if n<=0:\n",
    "    print('invalid number')\n",
    "elif n==1:\n",
    "    print([1])\n",
    "elif n==2:\n",
    "    print([[1],[1,1]])\n",
    "\n",
    "else:\n",
    "    triangle=[[1],[1,1]]\n",
    "    row_num=3\n",
    "    while row_num<=n:\n",
    "        row=[]\n",
    "        row.append(1)\n",
    "        #entries=0\n",
    "        left_bound=0\n",
    "        right_bound=1\n",
    "        while right_bound<=row_num-2:\n",
    "            row.append(triangle[row_num-2][left_bound]+triangle[row_num-2][right_bound])\n",
    "            left_bound+=1\n",
    "            right_bound+=1\n",
    "        row.append(1)\n",
    "        triangle.append(row)\n",
    "        row_num+=1\n",
    "    relevant_row=triangle[n-1]\n",
    "    print(relevant_row)\n",
    "    '''\n",
    "    print(map(str,relevant_row))\n",
    "    output_string=''.join(map(str,relevant_row))\n",
    "    print(output_string)\n",
    "    '''\n",
    "        "
   ]
  },
  {
   "cell_type": "code",
   "execution_count": null,
   "metadata": {
    "collapsed": true
   },
   "outputs": [],
   "source": []
  }
 ],
 "metadata": {
  "anaconda-cloud": {},
  "kernelspec": {
   "display_name": "Python 3",
   "language": "python",
   "name": "python3"
  },
  "language_info": {
   "codemirror_mode": {
    "name": "ipython",
    "version": 3
   },
   "file_extension": ".py",
   "mimetype": "text/x-python",
   "name": "python",
   "nbconvert_exporter": "python",
   "pygments_lexer": "ipython3",
   "version": "3.6.1"
  }
 },
 "nbformat": 4,
 "nbformat_minor": 1
}
