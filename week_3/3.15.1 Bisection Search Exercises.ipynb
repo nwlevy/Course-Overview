{
 "cells": [
  {
   "cell_type": "markdown",
   "metadata": {},
   "source": [
    "1. Try inputting 0.25 into the bisection search algorithm below and confirm that it doesn't work.  Then correct the algorithm so that it works for all positive numbers."
   ]
  },
  {
   "cell_type": "code",
   "execution_count": 3,
   "metadata": {},
   "outputs": [
    {
     "name": "stdout",
     "output_type": "stream",
     "text": [
      "enter a number:5.973\n",
      "low = 0.0 high = 5.973\n",
      "low = 0.0 high = 2.9865\n",
      "low = 1.49325 high = 2.9865\n",
      "low = 2.239875 high = 2.9865\n",
      "low = 2.239875 high = 2.6131875\n",
      "low = 2.42653125 high = 2.6131875\n",
      "low = 2.42653125 high = 2.5198593750000002\n",
      "low = 2.42653125 high = 2.4731953125\n",
      "low = 2.42653125 high = 2.44986328125\n",
      "low = 2.438197265625 high = 2.44986328125\n",
      "low = 2.438197265625 high = 2.4440302734375\n",
      "low = 2.44111376953125 high = 2.4440302734375\n",
      "low = 2.442572021484375 high = 2.4440302734375\n",
      "low = 2.4433011474609376 high = 2.4440302734375\n",
      "low = 2.4436657104492188 high = 2.4440302734375\n",
      "low = 2.4438479919433593 high = 2.4440302734375\n",
      "low = 2.4439391326904296 high = 2.4440302734375\n",
      "low = 2.4439391326904296 high = 2.4439847030639648\n",
      "low = 2.443961917877197 high = 2.4439847030639648\n",
      "number of guesses = 19\n",
      "2.4439676141738893 is close to square root of 5.973\n"
     ]
    }
   ],
   "source": [
    "## Bisection Search to Find a Square Root\n",
    "\n",
    "x = float(input(\"enter a number:\"))\n",
    "epsilon = 0.00001\n",
    "num_guesses = 0\n",
    "\n",
    "if(0<x and x<1):\n",
    "    low=x\n",
    "    high=1.0\n",
    "    ans=(high+low)/2.0\n",
    "    while high-low >= 2 * epsilon:\n",
    "        print(\"low =\",low,\"high =\", high)\n",
    "        num_guesses += 1\n",
    "        if ans**2 < x:\n",
    "            low = ans\n",
    "        else:\n",
    "            high = ans\n",
    "        ans = (high + low)/2.0\n",
    "    \n",
    "    \n",
    "else:\n",
    "    low = 0.0\n",
    "    high = x\n",
    "    ans = (high + low)/2.0\n",
    "    \n",
    "    while high-low >= 2 * epsilon:\n",
    "        print(\"low =\",low,\"high =\", high)\n",
    "        num_guesses += 1\n",
    "        if ans**2 < x:\n",
    "            low = ans\n",
    "        else:\n",
    "            high = ans\n",
    "        ans = (high + low)/2.0\n",
    "print('number of guesses =', num_guesses)\n",
    "print(ans, 'is close to square root of', x)"
   ]
  },
  {
   "cell_type": "markdown",
   "metadata": {},
   "source": [
    " 2. You run the bisection search algorithm to find the square root of x to a precision of epsilon.  Write down a formula for how many loop iterations it takes for the algorithm to complete.  Hint: first suppose that x has the special value $epsilon * 2^n$, where n is an integer."
   ]
  }
 ],
 "metadata": {
  "kernelspec": {
   "display_name": "Python 3",
   "language": "python",
   "name": "python3"
  },
  "language_info": {
   "codemirror_mode": {
    "name": "ipython",
    "version": 3
   },
   "file_extension": ".py",
   "mimetype": "text/x-python",
   "name": "python",
   "nbconvert_exporter": "python",
   "pygments_lexer": "ipython3",
   "version": "3.6.1"
  }
 },
 "nbformat": 4,
 "nbformat_minor": 1
}
