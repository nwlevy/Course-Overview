{
 "cells": [
  {
   "cell_type": "code",
   "execution_count": 10,
   "metadata": {
    "collapsed": true
   },
   "outputs": [],
   "source": [
    "class Tile:\n",
    "    def __init__(self,letter,value):\n",
    "        self.__letter=letter\n",
    "        self.__value=value\n",
    "    def get_letter(self):\n",
    "        return self.__letter\n",
    "    def set_letter(self,new_letter):\n",
    "        if len(new_letter)==1 and new_letter.isalpha():\n",
    "            self.__letter=new_letter\n",
    "        else:\n",
    "            raise Exception(\"Invalid Letter\")\n",
    "    def get_value(self):\n",
    "        return self.__value\n",
    "    def set_value(self,new_value):\n",
    "        if new_value <=0 or new_value > 10:\n",
    "            raise Exception(\"Invalid Value\")\n",
    "        else:\n",
    "            self.__value=new_value"
   ]
  },
  {
   "cell_type": "code",
   "execution_count": 6,
   "metadata": {
    "collapsed": true
   },
   "outputs": [],
   "source": []
  },
  {
   "cell_type": "code",
   "execution_count": 17,
   "metadata": {},
   "outputs": [
    {
     "name": "stdout",
     "output_type": "stream",
     "text": [
      "b\n",
      "3\n",
      "d\n",
      "2\n"
     ]
    }
   ],
   "source": [
    "t1=Tile('b',3)\n",
    "print(t1.get_letter())\n",
    "print(t1.get_value())\n",
    "t1.set_letter('d')\n",
    "t1.set_value(2)\n",
    "print(t1.get_letter())\n",
    "print(t1.get_value())"
   ]
  },
  {
   "cell_type": "code",
   "execution_count": 111,
   "metadata": {},
   "outputs": [
    {
     "name": "stdout",
     "output_type": "stream",
     "text": [
      "{'A': 1, 'C': 3, 'B': 3, 'E': 1, 'D': 2, 'G': 2, 'F': 4, 'I': 1, 'H': 4, 'K': 5, 'J': 8, 'M': 3, 'L': 1, 'O': 1, 'N': 1, 'Q': 10, 'P': 3, 'S': 1, 'R': 1, 'U': 1, 'T': 1, 'W': 4, 'V': 4, 'Y': 4, 'X': 8, 'Z': 10, '*': 0}\n"
     ]
    }
   ],
   "source": [
    "scores = {\"a\": 1, \"c\": 3, \"b\": 3, \"e\": 1, \"d\": 2, \"g\": 2,\"f\" : 4, \"i\": 1, \"h\": 4, \"k\": 5, \"j\": 8, \"m\": 3,\"l\" : 1, \"o\": 1, \"n\": 1, \"q\": 10, \"p\": 3, \"s\": 1,\"r\" : 1, \"u\": 1, \"t\": 1, \"w\": 4, \"v\": 4, \"y\": 4,\"x\" : 8, \"z\": 10,'*':0}\n",
    "keys=list(scores.keys())\n",
    "values=list(scores.values())\n",
    "upper_keys=[i.upper() for i in keys]\n",
    "upper_dict=dict(zip(upper_keys, values))\n",
    "print(upper_dict)"
   ]
  },
  {
   "cell_type": "code",
   "execution_count": 142,
   "metadata": {},
   "outputs": [
    {
     "name": "stdout",
     "output_type": "stream",
     "text": [
      "FLAP 8\n",
      "FRAP 8\n",
      "FAP 8\n",
      "FAP 8\n",
      "FAP 8\n",
      "FAP 8\n",
      "FOP 7\n",
      "FAA 5\n",
      "FAB 5\n",
      "FAD 5\n",
      "FAE 5\n",
      "FAG 5\n",
      "FAH 5\n",
      "FAN 5\n",
      "FAR 5\n",
      "FAS 5\n",
      "FAT 5\n",
      "FAW 5\n",
      "FAX 5\n",
      "FAY 5\n",
      "FAA 5\n",
      "FRA 5\n",
      "AFF 5\n",
      "AFT 5\n",
      "KAF 5\n",
      "OAF 5\n",
      "FA 5\n",
      "FA 5\n",
      "FA 5\n",
      "AFF 5\n",
      "ALF 5\n",
      "ARF 5\n",
      "AUF 5\n",
      "PEA 4\n",
      "PIA 4\n",
      "POA 4\n",
      "PYA 4\n",
      "PA 4\n",
      "PAC 4\n",
      "PAD 4\n",
      "PAH 4\n",
      "PAL 4\n",
      "PAM 4\n",
      "PAN 4\n",
      "PAP 4\n",
      "PAR 4\n",
      "PAS 4\n",
      "PAT 4\n",
      "PAV 4\n",
      "PAW 4\n",
      "PAX 4\n",
      "PAY 4\n",
      "ALP 4\n",
      "AMP 4\n",
      "APP 4\n",
      "ASP 4\n",
      "APE 4\n",
      "APO 4\n",
      "APP 4\n",
      "APT 4\n",
      "SPA 4\n",
      "PA 4\n",
      "FE 4\n",
      "FY 4\n",
      "EF 4\n",
      "IF 4\n",
      "OF 4\n",
      "PA 4\n",
      "BAP 4\n",
      "CAP 4\n",
      "DAP 4\n",
      "GAP 4\n",
      "HAP 4\n",
      "JAP 4\n",
      "LAP 4\n",
      "MAP 4\n",
      "NAP 4\n",
      "PAP 4\n",
      "RAP 4\n",
      "SAP 4\n",
      "TAP 4\n",
      "WAP 4\n",
      "YAP 4\n",
      "ZAP 4\n",
      "OP 3\n",
      "UP 3\n",
      "PE 3\n",
      "PI 3\n",
      "PO 3\n",
      "AA 1\n",
      "BA 1\n",
      "DA 1\n",
      "EA 1\n",
      "HA 1\n",
      "JA 1\n",
      "KA 1\n",
      "LA 1\n",
      "MA 1\n",
      "NA 1\n",
      "TA 1\n",
      "YA 1\n",
      "ZA 1\n",
      "AA 1\n",
      "AB 1\n",
      "AD 1\n",
      "AE 1\n",
      "AG 1\n",
      "AH 1\n",
      "AI 1\n",
      "AL 1\n",
      "AM 1\n",
      "AN 1\n",
      "AR 1\n",
      "AS 1\n",
      "AT 1\n",
      "AW 1\n",
      "AX 1\n",
      "AY 1\n"
     ]
    }
   ],
   "source": [
    "import itertools as it\n",
    "from collections import defaultdict\n",
    "import re\n",
    "from copy import deepcopy\n",
    "\n",
    "def possible_words(word):\n",
    "    perms_list=[]\n",
    "    #[perms_list+=list(it.permutations(word,i)) for i in range(1,len(word))]\n",
    "    for i in range(1,len(word)+1):\n",
    "        perms_list+=list(it.permutations(word,i))\n",
    "    words=[]\n",
    "    for j in perms_list:\n",
    "        words.append(''.join(j))\n",
    "    return list(set(words))\n",
    "\n",
    "def acceptable_words(word):\n",
    "    poss_words=possible_words(word)\n",
    "    poss_words=[i.upper() for i in poss_words]\n",
    "    sowpods=open(\"sowpods.txt\", \"r\")\n",
    "    all_words = sowpods.read().split('\\n')\n",
    "    #useable_words[i for i in possible_words if i in all_words]\n",
    "    #useable_words=list(set(poss_words).intersection(all_words))\n",
    "    useable_words=[]\n",
    "    for i in poss_words:\n",
    "        if i.count('*')>0:\n",
    "            j=i.upper().replace('*','[A-Z]')+'$'\n",
    "            r=re.compile(j)\n",
    "            tmp_list=list(filter(r.match,all_words))\n",
    "            useable_words+=tmp_list\n",
    "        else:\n",
    "            if i in all_words:\n",
    "                useable_words.append(i)\n",
    "    return useable_words\n",
    "\n",
    "\n",
    "def acceptable_word_scores(word):\n",
    "    poss_words=possible_words(word)\n",
    "    accept_words=acceptable_words(word)\n",
    "    scores = {\"a\": 1, \"c\": 3, \"b\": 3, \"e\": 1, \"d\": 2, \"g\": 2,\"f\" : 4, \"i\": 1, \"h\": 4, \"k\": 5, \"j\": 8, \"m\": 3,\n",
    "\"l\" : 1, \"o\": 1, \"n\": 1, \"q\": 10, \"p\": 3, \"s\": 1,\n",
    "\"r\" : 1, \"u\": 1, \"t\": 1, \"w\": 4, \"v\": 4, \"y\": 4,\n",
    "\"x\" : 8, \"z\": 10,'*':0}\n",
    "    \n",
    "    keys=list(scores.keys())\n",
    "    values=list(scores.values())\n",
    "    upper_keys=[i.upper() for i in keys]\n",
    "    upper_dict=dict(zip(upper_keys, values))\n",
    "    \n",
    "    word_rev=word.upper().replace('*','')\n",
    "    word_letters=list(word_rev)\n",
    "    \n",
    "    \n",
    "    def not_a_key():\n",
    "        return int()\n",
    "\n",
    "    score_dict=defaultdict(not_a_key)\n",
    "\n",
    "    for i in word_letters:\n",
    "        score_dict[i]=upper_dict[i]\n",
    "    \n",
    "    \n",
    "\n",
    "    word_scores=[]\n",
    "    #for i in accept_words:\n",
    "    for wrd in accept_words:    \n",
    "        score=0\n",
    "        tmp_letters=deepcopy(word_letters)\n",
    "        #for j in range(len(i)):\n",
    "        #print('checking: ',wrd)\n",
    "        for j in range(len(wrd)):\n",
    "            '''\n",
    "            score+=score_dict[i[j]]\n",
    "            '''\n",
    "            #tmp_letters=deepcopy(word_letters)\n",
    "            #print('tmp_letters :',tmp_letters)\n",
    "            #print('checking the letter :',wrd[j])\n",
    "            if wrd[j] in tmp_letters:\n",
    "                score+=score_dict[wrd[j]]\n",
    "                #print('score =',score)\n",
    "                tmp_letters.remove(wrd[j])\n",
    "                #print('removing :',wrd[j])\n",
    "        #word_scores.append([score,i])\n",
    "        word_scores.append([score,wrd])\n",
    "        \n",
    "    return sorted(word_scores,key=lambda x: x[0],reverse=True)\n",
    "        \n",
    "    \n",
    "        \n",
    "\n",
    "\n",
    "#print(possible_words('ZAEFIEE'))\n",
    "#print(acceptable_words('ZAEFIEE'))\n",
    "#print(acceptable_word_scores('F*AP'))\n",
    "\n",
    "results=acceptable_word_scores('F*AP')\n",
    "for i in results:\n",
    "    tmp=str(i[1])\n",
    "    print(tmp+\" \"+str(i[0]))"
   ]
  },
  {
   "cell_type": "code",
   "execution_count": 134,
   "metadata": {},
   "outputs": [
    {
     "name": "stdout",
     "output_type": "stream",
     "text": [
      "['E']\n"
     ]
    }
   ],
   "source": [
    "wrd='MA'\n",
    "tmp_letters=['E','M']\n",
    "tmp_letters.remove(wrd[0])\n",
    "print(tmp_letters)"
   ]
  },
  {
   "cell_type": "code",
   "execution_count": 127,
   "metadata": {},
   "outputs": [
    {
     "name": "stdout",
     "output_type": "stream",
     "text": [
      "[[17, 'FEAZE'], [17, 'FEEZE'], [16, 'FAZE'], [15, 'FEZ'], [15, 'FIZ'], [12, 'ZEA'], [12, 'ZEE'], [11, 'ZA'], [6, 'FEE'], [6, 'FIE'], [6, 'FAE'], [5, 'FA'], [5, 'EF'], [5, 'FE'], [5, 'IF'], [2, 'EA'], [2, 'AE'], [2, 'AI'], [2, 'EE']]\n"
     ]
    }
   ],
   "source": [
    "word_scores=[[2, 'EA'], [2, 'AE'], [6, 'FEE'], [15, 'FEZ'], [6, 'FIE'], [6, 'FAE'], [12, 'ZEA'], [5, 'FA'], [17, 'FEAZE'], [2, 'AI'], [5, 'EF'], [16, 'FAZE'], [15, 'FIZ'], [17, 'FEEZE'], [11, 'ZA'], [12, 'ZEE'], [5, 'FE'], [5, 'IF'], [2, 'EE']]\n",
    "def take_first(elem):\n",
    "    return elem[0]\n",
    "print(sorted(word_scores,key=lambda x: x[0],reverse=True))"
   ]
  },
  {
   "cell_type": "code",
   "execution_count": 35,
   "metadata": {},
   "outputs": [
    {
     "name": "stdout",
     "output_type": "stream",
     "text": [
      "['d', 'e', 'f']\n"
     ]
    }
   ],
   "source": [
    "a=['a','b','c']\n",
    "b=['d','e','f']\n",
    "print(a and b)"
   ]
  },
  {
   "cell_type": "code",
   "execution_count": 68,
   "metadata": {},
   "outputs": [
    {
     "name": "stdout",
     "output_type": "stream",
     "text": [
      "['AA', 'AAH', 'AAHED', 'AAHING', 'AAHS', 'AAL', 'AALII', 'AALIIS', 'AALS', 'AARDVARK', 'AARDVARKS', 'AARDWOLF', 'AARDWOLVES', 'AARGH', 'AARRGH', 'AARRGHH', 'AARTI', 'AARTIS', 'AAS', 'AASVOGEL', 'AASVOGELS', 'AB', 'ABA', 'ABAC', 'ABACA', 'ABACAS', 'ABACI', 'ABACK', 'ABACS', 'ABACTERIAL', 'ABACTINAL', 'ABACTINALLY', 'ABACTOR', 'ABACTORS', 'ABACUS', 'ABACUSES', 'ABAFT', 'ABAKA', 'ABAKAS', 'ABALONE', 'ABALONES', 'ABAMP', 'ABAMPERE', 'ABAMPERES', 'ABAMPS', 'ABAND', 'ABANDED', 'ABANDING', 'ABANDON', 'ABANDONED', 'ABANDONEDLY', 'ABANDONEE', 'ABANDONEES', 'ABANDONER', 'ABANDONERS', 'ABANDONING', 'ABANDONMENT', 'ABANDONMENTS', 'ABANDONS', 'ABANDONWARE', 'ABANDONWARES', 'ABANDS', 'ABAPICAL', 'ABAS', 'ABASE', 'ABASED', 'ABASEDLY', 'ABASEMENT', 'ABASEMENTS', 'ABASER', 'ABASERS', 'ABASES', 'ABASH', 'ABASHED', 'ABASHEDLY', 'ABASHES', 'ABASHING', 'ABASHLESS', 'ABASHMENT', 'ABASHMENTS', 'ABASIA', 'ABASIAS', 'ABASING', 'ABASK', 'ABATABLE', 'ABATE', 'ABATED', 'ABATEMENT', 'ABATEMENTS', 'ABATER', 'ABATERS', 'ABATES', 'ABATING', 'ABATIS', 'ABATISES', 'ABATOR', 'ABATORS', 'ABATTIS', 'ABATTISES', 'ABATTOIR']\n",
      "['TT', 'SETT', 'ETT', 'TTSE', 'TTS', 'TS', 'ET', 'SET', 'TSE', 'EST', 'TSET', 'TETS', 'TEST', 'TES', 'TSTE', 'TTES', 'TET', 'E', 'ES', 'ETTS', 'TE', 'ETS', 'S', 'STTE', 'ESTT', 'STT', 'ST', 'ETST', 'SE', 'TST', 'STET', 'STE', 'T', 'TTE']\n",
      "['SETT', 'ET', 'SET', 'EST', 'TETS', 'TEST', 'TES', 'TET', 'ES', 'TE', 'ST', 'STET']\n"
     ]
    }
   ],
   "source": [
    "import re\n",
    "sowpods=open(\"sowpods.txt\", \"r\")\n",
    "all_words = sowpods.read().split('\\n')\n",
    "print(all_words[0:100])\n",
    "poss_words=possible_words('test')\n",
    "poss_words=[i.upper() for i in poss_words]\n",
    "print(poss_words[0:100])\n",
    "#useable_words=list(set(poss_words).intersection(all_words))\n",
    "useable_words=[]\n",
    "for i in poss_words:\n",
    "    if i.count('*')>0:\n",
    "        j=i.upper().replace('*','[A-Z]')+'$'\n",
    "        r=re.compile(j)\n",
    "        tmp_list=list(filter(r.match,all_words))\n",
    "        useable_words+=tmp_list\n",
    "    else:\n",
    "        if i in all_words:\n",
    "            useable_words.append(i)\n",
    "\n",
    "print(useable_words)"
   ]
  },
  {
   "cell_type": "code",
   "execution_count": 65,
   "metadata": {},
   "outputs": [
    {
     "name": "stdout",
     "output_type": "stream",
     "text": [
      "['TOUT', 'TOOT', 'TOOTH']\n"
     ]
    }
   ],
   "source": [
    "import re\n",
    "a='t**t'\n",
    "a.count('g')\n",
    "b=a.upper().replace('*','[A-Z]')+'$'\n",
    "r=re.compile(b)\n",
    "newlist=filter(r.match,['TOUT','HARM','TOOT','MINT','TOOTH'])\n",
    "print(list(newlist))\n",
    "#print(re.match(b,'TOUT My Accomplishments').group(0))"
   ]
  },
  {
   "cell_type": "code",
   "execution_count": 89,
   "metadata": {},
   "outputs": [
    {
     "name": "stdout",
     "output_type": "stream",
     "text": [
      "2\n"
     ]
    }
   ],
   "source": [
    "from collections import defaultdict\n",
    "scores = {\"a\": 1, \"c\": 3, \"b\": 3, \"e\": 1, \"d\": 2, \"g\": 2,\"f\" : 4, \"i\": 1, \"h\": 4, \"k\": 5, \"j\": 8, \"m\": 3,\n",
    "\"l\" : 1, \"o\": 1, \"n\": 1, \"q\": 10, \"p\": 3, \"s\": 1,\n",
    "\"r\" : 1, \"u\": 1, \"t\": 1, \"w\": 4, \"v\": 4, \"y\": 4,\n",
    "\"x\" : 8, \"z\": 10}\n",
    "\n",
    "\n",
    "def not_a_key():\n",
    "    return int()\n",
    "\n",
    "score_dict=defaultdict(not_a_key)\n",
    "word_letters=['t','t']\n",
    "for i in word_letters:\n",
    "    score_dict[i]=scores[i]\n",
    "word='test'\n",
    "score=0\n",
    "for i in range(len(word)):\n",
    "    score+=score_dict[word[i]]\n",
    "print(score)"
   ]
  },
  {
   "cell_type": "code",
   "execution_count": 91,
   "metadata": {},
   "outputs": [
    {
     "name": "stdout",
     "output_type": "stream",
     "text": [
      "[[2, 'SAT'], [2, 'SET'], [2, 'SIT'], [2, 'SOT'], [2, 'EST'], [2, 'PST'], [1, 'AS'], [1, 'ES'], [1, 'IS'], [1, 'OS'], [1, 'US'], [2, 'TSK'], [2, 'ITS'], [2, 'UTS'], [3, 'TEST'], [3, 'TOST'], [3, 'TATS'], [3, 'TETS'], [3, 'TITS'], [3, 'TOTS'], [3, 'TUTS'], [2, 'ATT'], [1, 'SH'], [1, 'SI'], [1, 'SO'], [1, 'ST'], [3, 'SETT'], [3, 'STAT'], [3, 'STET'], [3, 'STOT'], [1, 'AT'], [1, 'ET'], [1, 'IT'], [1, 'ST'], [1, 'UT'], [2, 'TAS'], [2, 'TES'], [2, 'TIS'], [1, 'TA'], [1, 'TE'], [1, 'TI'], [1, 'TO'], [1, 'ST'], [2, 'TAT'], [2, 'TET'], [2, 'TIT'], [2, 'TOT'], [2, 'TUT'], [2, 'STY']]\n"
     ]
    }
   ],
   "source": [
    "from collections import defaultdict\n",
    "poss_words=possible_words('t*st')\n",
    "accept_words=acceptable_words('t*st')\n",
    "scores = {\"a\": 1, \"c\": 3, \"b\": 3, \"e\": 1, \"d\": 2, \"g\": 2,\"f\" : 4, \"i\": 1, \"h\": 4, \"k\": 5, \"j\": 8, \"m\": 3,\n",
    "\"l\" : 1, \"o\": 1, \"n\": 1, \"q\": 10, \"p\": 3, \"s\": 1,\n",
    "\"r\" : 1, \"u\": 1, \"t\": 1, \"w\": 4, \"v\": 4, \"y\": 4,\n",
    "\"x\" : 8, \"z\": 10,'*' : 0}\n",
    "#print(scores['q'])\n",
    "word='t*st'\n",
    "word_rev=word.replace('*','')\n",
    "word_letters=list(word_rev)\n",
    "def not_a_key():\n",
    "    return int()\n",
    "\n",
    "score_dict=defaultdict(not_a_key)\n",
    "\n",
    "for i in word_letters:\n",
    "    score_dict[i]=scores[i]\n",
    "\n",
    "\n",
    "word_scores=[]\n",
    "for i in accept_words:\n",
    "        score=0\n",
    "        for j in range(len(i)):\n",
    "            score+=score_dict[word[j]]\n",
    "        word_scores.append([score,i])\n",
    "print(word_scores)"
   ]
  },
  {
   "cell_type": "code",
   "execution_count": null,
   "metadata": {
    "collapsed": true
   },
   "outputs": [],
   "source": []
  }
 ],
 "metadata": {
  "kernelspec": {
   "display_name": "Python 3",
   "language": "python",
   "name": "python3"
  },
  "language_info": {
   "codemirror_mode": {
    "name": "ipython",
    "version": 3
   },
   "file_extension": ".py",
   "mimetype": "text/x-python",
   "name": "python",
   "nbconvert_exporter": "python",
   "pygments_lexer": "ipython3",
   "version": "3.6.1"
  }
 },
 "nbformat": 4,
 "nbformat_minor": 2
}
