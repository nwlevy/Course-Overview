{
 "cells": [
  {
   "cell_type": "markdown",
   "metadata": {},
   "source": [
    "# Modern Computing in Simple Packages"
   ]
  },
  {
   "cell_type": "markdown",
   "metadata": {},
   "source": [
    "## The Python Standard Library"
   ]
  },
  {
   "cell_type": "markdown",
   "metadata": {},
   "source": [
    "The Python standard library provides a wealth of built-in packages and modules that can make your life easier. It is good practice to see if functionality that you need in your scripts and programs has already been implemented in the Python standard library.\n",
    "\n",
    "We are going to go through a number of nice features that the Python standard library provides."
   ]
  },
  {
   "cell_type": "markdown",
   "metadata": {},
   "source": [
    "### Handling missing keys with setdefault() and defaultdict()"
   ]
  },
  {
   "cell_type": "markdown",
   "metadata": {},
   "source": [
    "### Handling KeyErrors automatically using setdefault()\n",
    "*It is unusual to have paired but separate headings like this. Can they be combined?*"
   ]
  },
  {
   "cell_type": "markdown",
   "metadata": {},
   "source": [
    "The function setdefault() provides the ability to return a default value if the given key does not exist in the dictionary. You may not want to handle a KeyError every time you attempt to retrieve a value from a dictionary using a key that does not exist in the dictionary."
   ]
  },
  {
   "cell_type": "code",
   "execution_count": 1,
   "metadata": {},
   "outputs": [
    {
     "ename": "KeyError",
     "evalue": "'Carbon'",
     "output_type": "error",
     "traceback": [
      "\u001b[1;31m---------------------------------------------------------------------------\u001b[0m",
      "\u001b[1;31mKeyError\u001b[0m                                  Traceback (most recent call last)",
      "\u001b[1;32m<ipython-input-1-ae85935c0fb9>\u001b[0m in \u001b[0;36m<module>\u001b[1;34m()\u001b[0m\n\u001b[0;32m      1\u001b[0m \u001b[0mperiodic_table\u001b[0m \u001b[1;33m=\u001b[0m \u001b[1;33m{\u001b[0m\u001b[1;34m'Hydrogen'\u001b[0m\u001b[1;33m:\u001b[0m \u001b[1;36m1\u001b[0m\u001b[1;33m,\u001b[0m \u001b[1;34m'Helium'\u001b[0m\u001b[1;33m:\u001b[0m \u001b[1;36m2\u001b[0m\u001b[1;33m}\u001b[0m\u001b[1;33m\u001b[0m\u001b[0m\n\u001b[1;32m----> 2\u001b[1;33m \u001b[0mperiodic_table\u001b[0m\u001b[1;33m[\u001b[0m\u001b[1;34m'Carbon'\u001b[0m\u001b[1;33m]\u001b[0m\u001b[1;33m\u001b[0m\u001b[0m\n\u001b[0m",
      "\u001b[1;31mKeyError\u001b[0m: 'Carbon'"
     ]
    }
   ],
   "source": [
    "periodic_table = {'Hydrogen': 1, 'Helium': 2}\n",
    "periodic_table['Carbon']"
   ]
  },
  {
   "cell_type": "markdown",
   "metadata": {},
   "source": [
    "In order to prevent the above KeyError, you can use the dictionary function setdefault, which will return the value of the key that you are referencing if it exists, and the value you specified as a default if it does not exist, as in the following example."
   ]
  },
  {
   "cell_type": "code",
   "execution_count": 2,
   "metadata": {},
   "outputs": [
    {
     "data": {
      "text/plain": [
       "1"
      ]
     },
     "execution_count": 2,
     "metadata": {},
     "output_type": "execute_result"
    }
   ],
   "source": [
    "periodic_table.setdefault('Hydrogen', 12)"
   ]
  },
  {
   "cell_type": "code",
   "execution_count": 3,
   "metadata": {},
   "outputs": [
    {
     "data": {
      "text/plain": [
       "2"
      ]
     },
     "execution_count": 3,
     "metadata": {},
     "output_type": "execute_result"
    }
   ],
   "source": [
    "periodic_table.setdefault('Helium', 12)"
   ]
  },
  {
   "cell_type": "code",
   "execution_count": 4,
   "metadata": {},
   "outputs": [
    {
     "data": {
      "text/plain": [
       "12"
      ]
     },
     "execution_count": 4,
     "metadata": {},
     "output_type": "execute_result"
    }
   ],
   "source": [
    "periodic_table.setdefault('Carbon', 12)"
   ]
  },
  {
   "cell_type": "markdown",
   "metadata": {},
   "source": [
    "Also note that setdefault() will also add the key that was not previously in the dictionary to the dictionary with the default value."
   ]
  },
  {
   "cell_type": "code",
   "execution_count": 5,
   "metadata": {},
   "outputs": [
    {
     "data": {
      "text/plain": [
       "{'Carbon': 12, 'Helium': 2, 'Hydrogen': 1}"
      ]
     },
     "execution_count": 5,
     "metadata": {},
     "output_type": "execute_result"
    }
   ],
   "source": [
    "periodic_table"
   ]
  },
  {
   "cell_type": "markdown",
   "metadata": {},
   "source": [
    "### Create a dictionary with a default value using defaultdict()"
   ]
  },
  {
   "cell_type": "markdown",
   "metadata": {},
   "source": [
    "The function defaultdict() can be used to provide a created dictionary a default value for nonexistent keys. defaultdict() takes in a function that will be called when a key does not exist in the database. It must be defined at the initialization of the dictionary."
   ]
  },
  {
   "cell_type": "code",
   "execution_count": 7,
   "metadata": {},
   "outputs": [],
   "source": [
    "from collections import defaultdict\n",
    "\n",
    "def not_an_element():\n",
    "    return int()\n",
    "\n",
    "no_error_periodic_table = defaultdict(not_an_element)\n",
    "no_error_periodic_table['Hydrogen'] = 1\n",
    "no_error_periodic_table['Helium'] = 2"
   ]
  },
  {
   "cell_type": "code",
   "execution_count": 8,
   "metadata": {},
   "outputs": [
    {
     "data": {
      "text/plain": [
       "1"
      ]
     },
     "execution_count": 8,
     "metadata": {},
     "output_type": "execute_result"
    }
   ],
   "source": [
    "no_error_periodic_table['Hydrogen']"
   ]
  },
  {
   "cell_type": "code",
   "execution_count": 9,
   "metadata": {},
   "outputs": [
    {
     "data": {
      "text/plain": [
       "2"
      ]
     },
     "execution_count": 9,
     "metadata": {},
     "output_type": "execute_result"
    }
   ],
   "source": [
    "no_error_periodic_table['Helium']"
   ]
  },
  {
   "cell_type": "code",
   "execution_count": 10,
   "metadata": {},
   "outputs": [
    {
     "data": {
      "text/plain": [
       "0"
      ]
     },
     "execution_count": 10,
     "metadata": {},
     "output_type": "execute_result"
    }
   ],
   "source": [
    "no_error_periodic_table['Blastium']"
   ]
  },
  {
   "cell_type": "markdown",
   "metadata": {},
   "source": [
    "Constructors like int(), list(), or dict() provide default empty values of their respective data types and can be handy for creating empty objects. One handy way of using defaultdict() is if you want to create a counter that can count the number of occurences a key has in a given list of data.\n",
    "\n",
    "For example, let's pull the first forty books in Google Books that are related to \"Berkeley\" and count how many books were published by a particular publisher."
   ]
  },
  {
   "cell_type": "code",
   "execution_count": 11,
   "metadata": {},
   "outputs": [
    {
     "name": "stdout",
     "output_type": "stream",
     "text": [
      "Oxford University Press, USA 2\n",
      "Clarendon Press 1\n",
      "None 5\n",
      "Univ of California Press 4\n",
      "Arcadia Publishing 1\n",
      "Oxford ; New York : Oxford University Press 1\n",
      "Transaction Publishers 1\n",
      "Springer Science & Business Media 4\n",
      "Cornell University Press 2\n",
      "U of Minnesota Press 1\n",
      "University of Chicago Press 1\n",
      "Grand Central Publishing 1\n",
      "University of California Inst of 1\n",
      "University of Toronto Press 1\n",
      "Jones & Bartlett Learning 1\n",
      "Wiley-Blackwell 1\n",
      "Indiana University Press 1\n",
      "Fordham Univ Press 1\n",
      "Cambridge University Press 2\n",
      "Heritage Books 1\n",
      "Penn State Press 1\n",
      "Boydell Press 1\n",
      "Lexington Books 1\n",
      "Manchester University Press 1\n",
      "North Atlantic Books 1\n",
      "Yale University Press 1\n",
      "Princeton Architectural Press 1\n"
     ]
    }
   ],
   "source": [
    "from collections import defaultdict\n",
    "from urllib.request import urlopen\n",
    "import json\n",
    "\n",
    "response = urlopen('https://www.googleapis.com/books/v1/volumes?q=berkeley&maxResults=40')\n",
    "rawData = response.read().decode(\"utf-8\")\n",
    "book_data = json.loads(rawData)\n",
    "\n",
    "# Here we create a dictionary whose default is int(), or zero\n",
    "publisher_counter = defaultdict(int)\n",
    "\n",
    "# We will go through all of the books that are related to berkeley and count\n",
    "# how many books were published from a particular publisher\n",
    "for item in book_data[\"items\"]:\n",
    "    \n",
    "    # Note how we use the function setdefault to set publisher to None if there's no\n",
    "    # publisher in the response\n",
    "    publisher = item[\"volumeInfo\"].setdefault(\"publisher\", \"None\")\n",
    "    \n",
    "    # The default nature of publisher_counter enables us to do this without any raised\n",
    "    # exceptions\n",
    "    publisher_counter[publisher] += 1\n",
    "    \n",
    "for publisher, count in publisher_counter.items():\n",
    "    print(publisher, count)"
   ]
  },
  {
   "cell_type": "markdown",
   "metadata": {},
   "source": [
    "In addition to using regular functions and default constructors, you can also use a lambda function to set the default value of the dictionary."
   ]
  },
  {
   "cell_type": "code",
   "execution_count": 12,
   "metadata": {},
   "outputs": [
    {
     "data": {
      "text/plain": [
       "999999"
      ]
     },
     "execution_count": 12,
     "metadata": {},
     "output_type": "execute_result"
    }
   ],
   "source": [
    "no_error_periodic_table = defaultdict(lambda: 999999)\n",
    "no_error_periodic_table['Hydrogen'] = 1\n",
    "no_error_periodic_table['Helium'] = 2\n",
    "no_error_periodic_table['Blastium']"
   ]
  },
  {
   "cell_type": "markdown",
   "metadata": {},
   "source": [
    "### Count items with Counter()"
   ]
  },
  {
   "cell_type": "markdown",
   "metadata": {},
   "source": [
    "Counter() produces a dictionary with the values and the number of times they are present in the list. We are going to use our api example above to demonstrate how to use Counter() to create a dictionary that is used for counting."
   ]
  },
  {
   "cell_type": "code",
   "execution_count": 13,
   "metadata": {},
   "outputs": [
    {
     "name": "stdout",
     "output_type": "stream",
     "text": [
      "Counter({'None': 5, 'Univ of California Press': 4, 'Springer Science & Business Media': 4, 'Oxford University Press, USA': 2, 'Cornell University Press': 2, 'Cambridge University Press': 2, 'Clarendon Press': 1, 'Arcadia Publishing': 1, 'Oxford ; New York : Oxford University Press': 1, 'Transaction Publishers': 1, 'U of Minnesota Press': 1, 'University of Chicago Press': 1, 'Grand Central Publishing': 1, 'University of California Inst of': 1, 'University of Toronto Press': 1, 'Jones & Bartlett Learning': 1, 'Wiley-Blackwell': 1, 'Indiana University Press': 1, 'Fordham Univ Press': 1, 'Heritage Books': 1, 'Penn State Press': 1, 'Boydell Press': 1, 'Lexington Books': 1, 'Manchester University Press': 1, 'North Atlantic Books': 1, 'Yale University Press': 1, 'Princeton Architectural Press': 1})\n"
     ]
    }
   ],
   "source": [
    "from collections import Counter\n",
    "from urllib.request import urlopen\n",
    "import json\n",
    "\n",
    "response = urlopen('https://www.googleapis.com/books/v1/volumes?q=berkeley&maxResults=40')\n",
    "rawData = response.read().decode(\"utf-8\")\n",
    "book_data = json.loads(rawData)\n",
    "\n",
    "# We will go through all of the books that are related to berkeley to create a list of all\n",
    "# of the publishers of the lists we pulled\n",
    "berkeley_list = list()\n",
    "for item in book_data[\"items\"]:\n",
    "    berkeley_list.append(item[\"volumeInfo\"].setdefault(\"publisher\", \"None\"))\n",
    "\n",
    "# Create a Counter object based on the list of publishers we have created\n",
    "berkeley_counter = Counter(berkeley_list)\n",
    "print(berkeley_counter)"
   ]
  },
  {
   "cell_type": "markdown",
   "metadata": {},
   "source": [
    "Now we have a dictionary that has the list of the publishers as keys and their counts as values. This is another way we can count the publishers in the given selection of books. "
   ]
  },
  {
   "cell_type": "markdown",
   "metadata": {},
   "source": [
    "We can easily find the most common of the list by using the counter's most_common function."
   ]
  },
  {
   "cell_type": "code",
   "execution_count": 14,
   "metadata": {},
   "outputs": [
    {
     "data": {
      "text/plain": [
       "[('None', 5),\n",
       " ('Univ of California Press', 4),\n",
       " ('Springer Science & Business Media', 4)]"
      ]
     },
     "execution_count": 14,
     "metadata": {},
     "output_type": "execute_result"
    }
   ],
   "source": [
    "berkeley_counter.most_common(3)"
   ]
  },
  {
   "cell_type": "markdown",
   "metadata": {},
   "source": [
    "We just received the three most common publishers in our list."
   ]
  },
  {
   "cell_type": "markdown",
   "metadata": {},
   "source": [
    "You can also do some operations on two or more counters. Lets make a counter for the first forty books in Google Books related to Stanford."
   ]
  },
  {
   "cell_type": "code",
   "execution_count": 15,
   "metadata": {},
   "outputs": [
    {
     "name": "stdout",
     "output_type": "stream",
     "text": [
      "Counter({'None': 11, 'Springer Science & Business Media': 5, 'CRC Press': 2, 'A&C Black': 2, 'AuthorHouse': 2, 'Cambridge University Press': 2, 'Genealogical Publishing Com': 2, 'Stanford University Press': 1, 'Lexington Books': 1, 'Xlibris Corporation': 1, 'Pickpocket Publishing': 1, 'Llumina Press': 1, 'FrancoAngeli': 1, 'Routledge': 1, 'Lulu.com': 1, 'Rex Bookstore, Inc.': 1, 'Book Guild Publishing': 1, 'Cuvillier Verlag': 1, 'IOS Press': 1, 'OUP Oxford': 1, 'Discovery Publishing House': 1})\n"
     ]
    }
   ],
   "source": [
    "from collections import Counter\n",
    "from urllib.request import urlopen\n",
    "import json\n",
    "\n",
    "response = urlopen('https://www.googleapis.com/books/v1/volumes?q=standford&maxResults=40')\n",
    "rawData = response.read().decode(\"utf-8\")\n",
    "book_data = json.loads(rawData)\n",
    "\n",
    "# We will go through all of the books that are related to berkeley to create a list of all\n",
    "# of the publishers of the lists we pulled\n",
    "\n",
    "stanford_list = list()\n",
    "for item in book_data[\"items\"]:\n",
    "    stanford_list.append(item[\"volumeInfo\"].setdefault(\"publisher\", \"None\"))\n",
    "\n",
    "stanford_counter = Counter(stanford_list)\n",
    "print(stanford_counter)"
   ]
  },
  {
   "cell_type": "markdown",
   "metadata": {},
   "source": [
    "We can now do some interesting operations such as combine two counters."
   ]
  },
  {
   "cell_type": "code",
   "execution_count": 16,
   "metadata": {},
   "outputs": [
    {
     "data": {
      "text/plain": [
       "Counter({'A&C Black': 2,\n",
       "         'Arcadia Publishing': 1,\n",
       "         'AuthorHouse': 2,\n",
       "         'Book Guild Publishing': 1,\n",
       "         'Boydell Press': 1,\n",
       "         'CRC Press': 2,\n",
       "         'Cambridge University Press': 4,\n",
       "         'Clarendon Press': 1,\n",
       "         'Cornell University Press': 2,\n",
       "         'Cuvillier Verlag': 1,\n",
       "         'Discovery Publishing House': 1,\n",
       "         'Fordham Univ Press': 1,\n",
       "         'FrancoAngeli': 1,\n",
       "         'Genealogical Publishing Com': 2,\n",
       "         'Grand Central Publishing': 1,\n",
       "         'Heritage Books': 1,\n",
       "         'IOS Press': 1,\n",
       "         'Indiana University Press': 1,\n",
       "         'Jones & Bartlett Learning': 1,\n",
       "         'Lexington Books': 2,\n",
       "         'Llumina Press': 1,\n",
       "         'Lulu.com': 1,\n",
       "         'Manchester University Press': 1,\n",
       "         'None': 16,\n",
       "         'North Atlantic Books': 1,\n",
       "         'OUP Oxford': 1,\n",
       "         'Oxford ; New York : Oxford University Press': 1,\n",
       "         'Oxford University Press, USA': 2,\n",
       "         'Penn State Press': 1,\n",
       "         'Pickpocket Publishing': 1,\n",
       "         'Princeton Architectural Press': 1,\n",
       "         'Rex Bookstore, Inc.': 1,\n",
       "         'Routledge': 1,\n",
       "         'Springer Science & Business Media': 9,\n",
       "         'Stanford University Press': 1,\n",
       "         'Transaction Publishers': 1,\n",
       "         'U of Minnesota Press': 1,\n",
       "         'Univ of California Press': 4,\n",
       "         'University of California Inst of': 1,\n",
       "         'University of Chicago Press': 1,\n",
       "         'University of Toronto Press': 1,\n",
       "         'Wiley-Blackwell': 1,\n",
       "         'Xlibris Corporation': 1,\n",
       "         'Yale University Press': 1})"
      ]
     },
     "execution_count": 16,
     "metadata": {},
     "output_type": "execute_result"
    }
   ],
   "source": [
    "berkeley_counter + stanford_counter"
   ]
  },
  {
   "cell_type": "markdown",
   "metadata": {},
   "source": [
    "Which publishers publish for both Berkeley and Stanford?"
   ]
  },
  {
   "cell_type": "code",
   "execution_count": 17,
   "metadata": {},
   "outputs": [
    {
     "data": {
      "text/plain": [
       "Counter({'Cambridge University Press': 2,\n",
       "         'Lexington Books': 1,\n",
       "         'None': 5,\n",
       "         'Springer Science & Business Media': 4})"
      ]
     },
     "execution_count": 17,
     "metadata": {},
     "output_type": "execute_result"
    }
   ],
   "source": [
    "berkeley_counter & stanford_counter"
   ]
  },
  {
   "cell_type": "markdown",
   "metadata": {},
   "source": [
    "What are all of the publishers that publish for either Stanford or Berkeley or both? Note this also combines counts for publishers that are found in both collections."
   ]
  },
  {
   "cell_type": "code",
   "execution_count": 18,
   "metadata": {},
   "outputs": [
    {
     "data": {
      "text/plain": [
       "Counter({'A&C Black': 2,\n",
       "         'Arcadia Publishing': 1,\n",
       "         'AuthorHouse': 2,\n",
       "         'Book Guild Publishing': 1,\n",
       "         'Boydell Press': 1,\n",
       "         'CRC Press': 2,\n",
       "         'Cambridge University Press': 2,\n",
       "         'Clarendon Press': 1,\n",
       "         'Cornell University Press': 2,\n",
       "         'Cuvillier Verlag': 1,\n",
       "         'Discovery Publishing House': 1,\n",
       "         'Fordham Univ Press': 1,\n",
       "         'FrancoAngeli': 1,\n",
       "         'Genealogical Publishing Com': 2,\n",
       "         'Grand Central Publishing': 1,\n",
       "         'Heritage Books': 1,\n",
       "         'IOS Press': 1,\n",
       "         'Indiana University Press': 1,\n",
       "         'Jones & Bartlett Learning': 1,\n",
       "         'Lexington Books': 1,\n",
       "         'Llumina Press': 1,\n",
       "         'Lulu.com': 1,\n",
       "         'Manchester University Press': 1,\n",
       "         'None': 11,\n",
       "         'North Atlantic Books': 1,\n",
       "         'OUP Oxford': 1,\n",
       "         'Oxford ; New York : Oxford University Press': 1,\n",
       "         'Oxford University Press, USA': 2,\n",
       "         'Penn State Press': 1,\n",
       "         'Pickpocket Publishing': 1,\n",
       "         'Princeton Architectural Press': 1,\n",
       "         'Rex Bookstore, Inc.': 1,\n",
       "         'Routledge': 1,\n",
       "         'Springer Science & Business Media': 5,\n",
       "         'Stanford University Press': 1,\n",
       "         'Transaction Publishers': 1,\n",
       "         'U of Minnesota Press': 1,\n",
       "         'Univ of California Press': 4,\n",
       "         'University of California Inst of': 1,\n",
       "         'University of Chicago Press': 1,\n",
       "         'University of Toronto Press': 1,\n",
       "         'Wiley-Blackwell': 1,\n",
       "         'Xlibris Corporation': 1,\n",
       "         'Yale University Press': 1})"
      ]
     },
     "execution_count": 18,
     "metadata": {},
     "output_type": "execute_result"
    }
   ],
   "source": [
    "berkeley_counter | stanford_counter"
   ]
  },
  {
   "cell_type": "markdown",
   "metadata": {},
   "source": [
    "### Ordering dictionaries with OrderedDict()"
   ]
  },
  {
   "cell_type": "markdown",
   "metadata": {},
   "source": [
    "A standard dictionary entry will not save the order where they were inserted into the dictionary. If you want to create a dictionary that iterates through in a particular order, use OrderedDict.\n",
    "*In the first sentence, what does \"they\" refer to?*"
   ]
  },
  {
   "cell_type": "code",
   "execution_count": 19,
   "metadata": {},
   "outputs": [
    {
     "name": "stdout",
     "output_type": "stream",
     "text": [
      "Oxford University Press, USA\n",
      "Clarendon Press\n",
      "None\n",
      "Univ of California Press\n",
      "Arcadia Publishing\n",
      "Oxford ; New York : Oxford University Press\n",
      "Transaction Publishers\n",
      "Springer Science & Business Media\n",
      "Cornell University Press\n",
      "U of Minnesota Press\n",
      "University of Chicago Press\n",
      "Grand Central Publishing\n",
      "University of California Inst of\n",
      "University of Toronto Press\n",
      "Jones & Bartlett Learning\n",
      "Wiley-Blackwell\n",
      "Indiana University Press\n",
      "Fordham Univ Press\n",
      "Cambridge University Press\n",
      "Heritage Books\n",
      "Penn State Press\n",
      "Boydell Press\n",
      "Lexington Books\n",
      "Manchester University Press\n",
      "North Atlantic Books\n",
      "Yale University Press\n",
      "Princeton Architectural Press\n"
     ]
    }
   ],
   "source": [
    "from collections import OrderedDict\n",
    "berkeley_publishers = OrderedDict(berkeley_counter)\n",
    "\n",
    "for publisher in berkeley_publishers:\n",
    "    print(publisher)"
   ]
  },
  {
   "cell_type": "markdown",
   "metadata": {},
   "source": [
    "Note that this is the same order as the order in which publishers were added earlier. The dictionary `berkeley_publishers` will return publishers in that order every time it is called and iterated through. This can be useful if you want to preserve the order in which the api returned the data."
   ]
  },
  {
   "cell_type": "markdown",
   "metadata": {},
   "source": [
    "### Using deques"
   ]
  },
  {
   "cell_type": "markdown",
   "metadata": {},
   "source": [
    "Let's say now we want to create a list of publishers in order of how many books they have published in our sample list. We could get the list of publishers in order of how many books they have published in our sample."
   ]
  },
  {
   "cell_type": "code",
   "execution_count": 21,
   "metadata": {},
   "outputs": [
    {
     "name": "stdout",
     "output_type": "stream",
     "text": [
      "['None', 'Univ of California Press', 'Springer Science & Business Media', 'Oxford University Press, USA', 'Cornell University Press', 'Cambridge University Press', 'Clarendon Press', 'Arcadia Publishing', 'Oxford ; New York : Oxford University Press', 'Transaction Publishers', 'U of Minnesota Press', 'University of Chicago Press', 'Grand Central Publishing', 'University of California Inst of', 'University of Toronto Press', 'Jones & Bartlett Learning', 'Wiley-Blackwell', 'Indiana University Press', 'Fordham Univ Press', 'Heritage Books', 'Penn State Press', 'Boydell Press', 'Lexington Books', 'Manchester University Press', 'North Atlantic Books', 'Yale University Press', 'Princeton Architectural Press']\n"
     ]
    }
   ],
   "source": [
    "berkeley_publisher_list_ordered = list()\n",
    "for key, value in berkeley_counter.most_common():\n",
    "    berkeley_publisher_list_ordered.append(key)\n",
    "\n",
    "print(berkeley_publisher_list_ordered)"
   ]
  },
  {
   "cell_type": "markdown",
   "metadata": {},
   "source": [
    "Let's say we want to remove the most common and least common publishers from our list. One way we can do this is to convert `berkeley_publisher_list_ordered` into a deque that allows us to pop elements from it from the beginning and the end."
   ]
  },
  {
   "cell_type": "code",
   "execution_count": 22,
   "metadata": {},
   "outputs": [
    {
     "name": "stdout",
     "output_type": "stream",
     "text": [
      "deque(['Univ of California Press', 'Springer Science & Business Media', 'Oxford University Press, USA', 'Cornell University Press', 'Cambridge University Press', 'Clarendon Press', 'Arcadia Publishing', 'Oxford ; New York : Oxford University Press', 'Transaction Publishers', 'U of Minnesota Press', 'University of Chicago Press', 'Grand Central Publishing', 'University of California Inst of', 'University of Toronto Press', 'Jones & Bartlett Learning', 'Wiley-Blackwell', 'Indiana University Press', 'Fordham Univ Press', 'Heritage Books', 'Penn State Press', 'Boydell Press', 'Lexington Books', 'Manchester University Press', 'North Atlantic Books', 'Yale University Press'])\n"
     ]
    }
   ],
   "source": [
    "from collections import deque\n",
    "\n",
    "berkeley_publisher_list_ordered_deque = deque(berkeley_publisher_list_ordered)\n",
    "berkeley_publisher_list_ordered_deque.pop()\n",
    "berkeley_publisher_list_ordered_deque.popleft()\n",
    "print(berkeley_publisher_list_ordered_deque)"
   ]
  },
  {
   "cell_type": "markdown",
   "metadata": {},
   "source": [
    "Notice that the most popular publisher and the least popular publisher (\"None\" and \"University of Chicago Press\", respectively) were removed from the dequeue. The function pop() removes the last element inserted in the list (\"University of Chicago Press\") and popleft() removes the first element of the list (\"None\")."
   ]
  },
  {
   "cell_type": "markdown",
   "metadata": {},
   "source": [
    "Dequeues are useful for a variety of cases, but also know that you can always use slices to remove elements from the beginning and end of lists."
   ]
  },
  {
   "cell_type": "code",
   "execution_count": 23,
   "metadata": {},
   "outputs": [
    {
     "name": "stdout",
     "output_type": "stream",
     "text": [
      "['Univ of California Press', 'Springer Science & Business Media', 'Oxford University Press, USA', 'Cornell University Press', 'Cambridge University Press', 'Clarendon Press', 'Arcadia Publishing', 'Oxford ; New York : Oxford University Press', 'Transaction Publishers', 'U of Minnesota Press', 'University of Chicago Press', 'Grand Central Publishing', 'University of California Inst of', 'University of Toronto Press', 'Jones & Bartlett Learning', 'Wiley-Blackwell', 'Indiana University Press', 'Fordham Univ Press', 'Heritage Books', 'Penn State Press', 'Boydell Press', 'Lexington Books', 'Manchester University Press', 'North Atlantic Books', 'Yale University Press']\n"
     ]
    }
   ],
   "source": [
    "berkeley_publisher_list_ordered_copy = list(berkeley_publisher_list_ordered)\n",
    "berkeley_publisher_list_ordered_copy = berkeley_publisher_list_ordered_copy[1:-1]\n",
    "print(berkeley_publisher_list_ordered_copy)"
   ]
  },
  {
   "cell_type": "markdown",
   "metadata": {},
   "source": [
    "### Pretty print with pprint"
   ]
  },
  {
   "cell_type": "markdown",
   "metadata": {},
   "source": [
    "We have been exclusively using the function `print()` to print out our lists and dictionaries; however, pprint can format our elements to make them easier to read. Let's print the Berkeley publisher list in a better way."
   ]
  },
  {
   "cell_type": "code",
   "execution_count": 24,
   "metadata": {},
   "outputs": [
    {
     "name": "stdout",
     "output_type": "stream",
     "text": [
      "['None',\n",
      " 'Univ of California Press',\n",
      " 'Springer Science & Business Media',\n",
      " 'Oxford University Press, USA',\n",
      " 'Cornell University Press',\n",
      " 'Cambridge University Press',\n",
      " 'Clarendon Press',\n",
      " 'Arcadia Publishing',\n",
      " 'Oxford ; New York : Oxford University Press',\n",
      " 'Transaction Publishers',\n",
      " 'U of Minnesota Press',\n",
      " 'University of Chicago Press',\n",
      " 'Grand Central Publishing',\n",
      " 'University of California Inst of',\n",
      " 'University of Toronto Press',\n",
      " 'Jones & Bartlett Learning',\n",
      " 'Wiley-Blackwell',\n",
      " 'Indiana University Press',\n",
      " 'Fordham Univ Press',\n",
      " 'Heritage Books',\n",
      " 'Penn State Press',\n",
      " 'Boydell Press',\n",
      " 'Lexington Books',\n",
      " 'Manchester University Press',\n",
      " 'North Atlantic Books',\n",
      " 'Yale University Press',\n",
      " 'Princeton Architectural Press']\n"
     ]
    }
   ],
   "source": [
    "from pprint import pprint\n",
    "\n",
    "pprint(berkeley_publisher_list_ordered)"
   ]
  },
  {
   "cell_type": "markdown",
   "metadata": {},
   "source": [
    "This is just a sampling of the extremely useful modules and packages available in the Python standard library, which you can find here: https://docs.python.org/3/library/. And if you cannot find the functionality in the Python standard library, check the large open-source community-driven library PyPi at https://pypi.python.org/pypi."
   ]
  },
  {
   "cell_type": "markdown",
   "metadata": {},
   "source": [
    "### Note on installing third-party packages"
   ]
  },
  {
   "cell_type": "markdown",
   "metadata": {},
   "source": [
    "To really appreciate the full power of PyPi, we highly recommend [pip](https://pip.pypa.io/en/stable/) and [virtualenv](https://virtualenv.pypa.io/en/latest/index.html). Pip is Python's package installation utility, and it makes it very easy to install third-party parckages from PyPi to your machine. If you have installed the latest version of Python 3, pip should already have been included in the installation. \n",
    "\n",
    "To install a package, run the following command.\n",
    "\n",
    "`pip install [package_name]`\n",
    "\n",
    "After completion, all of your scripts would have access to the package that you have installed. Sometimes you need sudo access for Linux or Mac machines, and administrator rights for Windows to complete the installation. Watch for permission-denied errors.\n",
    "\n",
    "If you do not have administator access or if you simply do not want to modify your system, you can create a virtual environment where you can safely install all of the third-party packages in a separate folder away from your system files. Check [virtualenv](https://virtualenv.pypa.io/en/latest/index.html) for more information.\n",
    "\n",
    "Now we are able to create our own modules and packages that can be included in other applications using the import statement. Next we will discuss how to create proper classes in our modules. We will use Python 3 to build object-oriented scripts and applications."
   ]
  }
 ],
 "metadata": {
  "kernelspec": {
   "display_name": "Python 3",
   "language": "python",
   "name": "python3"
  },
  "language_info": {
   "codemirror_mode": {
    "name": "ipython",
    "version": 3
   },
   "file_extension": ".py",
   "mimetype": "text/x-python",
   "name": "python",
   "nbconvert_exporter": "python",
   "pygments_lexer": "ipython3",
   "version": "3.6.1"
  }
 },
 "nbformat": 4,
 "nbformat_minor": 1
}
