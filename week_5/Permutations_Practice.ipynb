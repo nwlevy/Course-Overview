{
 "cells": [
  {
   "cell_type": "code",
   "execution_count": 4,
   "metadata": {},
   "outputs": [
    {
     "name": "stdout",
     "output_type": "stream",
     "text": [
      "('t', 'e', 's')\n",
      "('t', 'e', 't')\n",
      "('t', 's', 'e')\n",
      "('t', 's', 't')\n",
      "('t', 't', 'e')\n",
      "('t', 't', 's')\n",
      "('e', 't', 's')\n",
      "('e', 't', 't')\n",
      "('e', 's', 't')\n",
      "('e', 's', 't')\n",
      "('e', 't', 't')\n",
      "('e', 't', 's')\n",
      "('s', 't', 'e')\n",
      "('s', 't', 't')\n",
      "('s', 'e', 't')\n",
      "('s', 'e', 't')\n",
      "('s', 't', 't')\n",
      "('s', 't', 'e')\n",
      "('t', 't', 'e')\n",
      "('t', 't', 's')\n",
      "('t', 'e', 't')\n",
      "('t', 'e', 's')\n",
      "('t', 's', 't')\n",
      "('t', 's', 'e')\n"
     ]
    }
   ],
   "source": [
    "import itertools as it\n",
    "test='test'\n",
    "perms=it.permutations(test,3)\n",
    "for i in perms:\n",
    "    print(i)"
   ]
  },
  {
   "cell_type": "code",
   "execution_count": 5,
   "metadata": {},
   "outputs": [
    {
     "name": "stdout",
     "output_type": "stream",
     "text": [
      "('t', 'e')\n",
      "('t', 's')\n",
      "('t', 't')\n",
      "('e', 't')\n",
      "('e', 's')\n",
      "('e', 't')\n",
      "('s', 't')\n",
      "('s', 'e')\n",
      "('s', 't')\n",
      "('t', 't')\n",
      "('t', 'e')\n",
      "('t', 's')\n"
     ]
    }
   ],
   "source": [
    "perms=it.permutations(test,2)\n",
    "for i in perms:\n",
    "    print(i)"
   ]
  },
  {
   "cell_type": "code",
   "execution_count": 9,
   "metadata": {},
   "outputs": [
    {
     "name": "stdout",
     "output_type": "stream",
     "text": [
      "[('t', 'e'), ('t', 's'), ('t', 't'), ('e', 't'), ('e', 's'), ('e', 't'), ('s', 't'), ('s', 'e'), ('s', 't'), ('t', 't'), ('t', 'e'), ('t', 's')]\n",
      "[('t', 'e'), ('t', 's'), ('t', 't'), ('e', 't'), ('e', 's'), ('e', 't'), ('s', 't'), ('s', 'e'), ('s', 't'), ('t', 't'), ('t', 'e'), ('t', 's'), [('t', 'e', 's'), ('t', 'e', 't'), ('t', 's', 'e'), ('t', 's', 't'), ('t', 't', 'e'), ('t', 't', 's'), ('e', 't', 's'), ('e', 't', 't'), ('e', 's', 't'), ('e', 's', 't'), ('e', 't', 't'), ('e', 't', 's'), ('s', 't', 'e'), ('s', 't', 't'), ('s', 'e', 't'), ('s', 'e', 't'), ('s', 't', 't'), ('s', 't', 'e'), ('t', 't', 'e'), ('t', 't', 's'), ('t', 'e', 't'), ('t', 'e', 's'), ('t', 's', 't'), ('t', 's', 'e')]]\n"
     ]
    }
   ],
   "source": [
    "perms=it.permutations(test,2)\n",
    "perms_list=list(perms)\n",
    "print(perms_list)\n",
    "perms3=it.permutations(test,3)\n",
    "perms3_list=list(perms3)\n",
    "perms_list.append(perms3_list)\n",
    "print(perms_list)"
   ]
  },
  {
   "cell_type": "code",
   "execution_count": null,
   "metadata": {
    "collapsed": true
   },
   "outputs": [],
   "source": []
  }
 ],
 "metadata": {
  "kernelspec": {
   "display_name": "Python 3",
   "language": "python",
   "name": "python3"
  },
  "language_info": {
   "codemirror_mode": {
    "name": "ipython",
    "version": 3
   },
   "file_extension": ".py",
   "mimetype": "text/x-python",
   "name": "python",
   "nbconvert_exporter": "python",
   "pygments_lexer": "ipython3",
   "version": "3.6.1"
  }
 },
 "nbformat": 4,
 "nbformat_minor": 2
}
