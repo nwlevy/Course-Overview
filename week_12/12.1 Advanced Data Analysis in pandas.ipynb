{
 "cells": [
  {
   "cell_type": "markdown",
   "metadata": {},
   "source": [
    "# Beyond the Basics of pandas\n",
    "\n",
    "Now that we have covered the basics of pandas and how to manipulate data, let's move on to some different representations of data in pandas. In this section we will analyze financial data that can be readily accessed from within the pandas library."
   ]
  },
  {
   "cell_type": "code",
   "execution_count": 1,
   "metadata": {},
   "outputs": [
    {
     "name": "stdout",
     "output_type": "stream",
     "text": [
      "3.6.1 |Anaconda 4.4.0 (64-bit)| (default, May 11 2017, 13:25:24) [MSC v.1900 64 bit (AMD64)]\n",
      "1.12.1\n",
      "0.20.1\n"
     ]
    }
   ],
   "source": [
    "%matplotlib inline\n",
    "import sys\n",
    "print(sys.version)\n",
    "import numpy as np\n",
    "print(np.__version__)\n",
    "import pandas as pd\n",
    "print(pd.__version__)\n",
    "import matplotlib.pyplot as plt"
   ]
  },
  {
   "cell_type": "markdown",
   "metadata": {},
   "source": [
    "\n",
    "\n",
    "We will leverage the `pandas.io` remote data access as described on this page:\n",
    "\n",
    "http://pandas.pydata.org/pandas-docs/stable/remote_data.html\n",
    "\n",
    "Functions from `pandas.io.data` and `pandas.io.ga` extract data from various Internet sources and make them available in our notebooks. At the time of this writing, the following sources are supported:\n",
    "\n",
    "- Yahoo! Finance\n",
    "- Google Finance\n",
    "- St.Louis FED (FRED)\n",
    "- Kenneth French’s data library\n",
    "- World Bank\n",
    "- Google Analytics\n",
    "\n",
    "This list actively changes so it is a good idea to see what is available to you; it is likely that more useful sources will continue to be added."
   ]
  },
  {
   "cell_type": "markdown",
   "metadata": {},
   "source": [
    "Let's explore the module to see if it gives us any information."
   ]
  },
  {
   "cell_type": "code",
   "execution_count": 8,
   "metadata": {},
   "outputs": [],
   "source": [
    "#import pandas.io.data\n",
    "#?pandas.io.data\n",
    "#from pandas_datareader import data,wb\n",
    "from pandas_datareader import data, wb"
   ]
  },
  {
   "cell_type": "markdown",
   "metadata": {},
   "source": [
    "Our plan is to look at some stocks from Yahoo! data with `pandas.io.data`.  There was a fair amount of volatility in the oil markets in 2014 to 2015. It was rough for oil producers, to say the least. Let's explore some of the stocks that are involved in that specific market.\n",
    "\n",
    "First we will set start and end dates. These are just datetimes. As we review in the next cell, we can create datetimes from the datetime package.  However, we can also use pandas to simply parse a string and pull out a datetime as well. This ends up being extremely useful."
   ]
  },
  {
   "cell_type": "code",
   "execution_count": 9,
   "metadata": {},
   "outputs": [
    {
     "name": "stdout",
     "output_type": "stream",
     "text": [
      "2010-01-01 00:00:00\n",
      "2010-01-01 00:00:00\n"
     ]
    }
   ],
   "source": [
    "import datetime\n",
    "print(datetime.datetime(2010,1,1))\n",
    "print(pd.to_datetime(\"2010-1-1\"))"
   ]
  },
  {
   "cell_type": "markdown",
   "metadata": {},
   "source": [
    "Now let's take a look at some specific stocks. Let's look at WTI, CHK, Tesla Motors, and CBAK. Below you will find out what they each cover, although you can certainly look online as well."
   ]
  },
  {
   "cell_type": "markdown",
   "metadata": {},
   "source": [
    "\n",
    "WTI - W&T Offshore Inc. (This company drills in the Gulf of Mexico.)\n",
    "\n",
    "CHK - Chesapeake Energy Corporation\n",
    "\n",
    "TSLA - Tesla Motors\n",
    "\n",
    "CBAK - China Bak Battery Incorporated\n"
   ]
  },
  {
   "cell_type": "markdown",
   "metadata": {},
   "source": [
    "See below how I use both datetime creation methods. We will get data from 2010 to 2015 for all of these stocks."
   ]
  },
  {
   "cell_type": "code",
   "execution_count": 16,
   "metadata": {},
   "outputs": [],
   "source": [
    "start = pd.to_datetime('2010-1-1')\n",
    "end = datetime.datetime(2015,1,1)\n",
    "ticker_symbols = ['WTI','CHK','TSLA','CBAK']"
   ]
  },
  {
   "cell_type": "markdown",
   "metadata": {},
   "source": [
    "Here you can see how to get data for a single stock."
   ]
  },
  {
   "cell_type": "code",
   "execution_count": 17,
   "metadata": {},
   "outputs": [],
   "source": [
    "#wti = pd.io.data.get_data_yahoo(ticker_symbols[0],start=start,end=end)\n",
    "wti =data.get_data_yahoo(ticker_symbols[0],start=start,end=end)"
   ]
  },
  {
   "cell_type": "code",
   "execution_count": 18,
   "metadata": {},
   "outputs": [
    {
     "data": {
      "text/html": [
       "<div>\n",
       "<style>\n",
       "    .dataframe thead tr:only-child th {\n",
       "        text-align: right;\n",
       "    }\n",
       "\n",
       "    .dataframe thead th {\n",
       "        text-align: left;\n",
       "    }\n",
       "\n",
       "    .dataframe tbody tr th {\n",
       "        vertical-align: top;\n",
       "    }\n",
       "</style>\n",
       "<table border=\"1\" class=\"dataframe\">\n",
       "  <thead>\n",
       "    <tr style=\"text-align: right;\">\n",
       "      <th></th>\n",
       "      <th>Open</th>\n",
       "      <th>High</th>\n",
       "      <th>Low</th>\n",
       "      <th>Close</th>\n",
       "      <th>Adj Close</th>\n",
       "      <th>Volume</th>\n",
       "    </tr>\n",
       "    <tr>\n",
       "      <th>Date</th>\n",
       "      <th></th>\n",
       "      <th></th>\n",
       "      <th></th>\n",
       "      <th></th>\n",
       "      <th></th>\n",
       "      <th></th>\n",
       "    </tr>\n",
       "  </thead>\n",
       "  <tbody>\n",
       "    <tr>\n",
       "      <th>2010-01-04</th>\n",
       "      <td>11.90</td>\n",
       "      <td>12.46</td>\n",
       "      <td>11.86</td>\n",
       "      <td>12.26</td>\n",
       "      <td>9.824886</td>\n",
       "      <td>838800</td>\n",
       "    </tr>\n",
       "    <tr>\n",
       "      <th>2010-01-05</th>\n",
       "      <td>12.30</td>\n",
       "      <td>12.63</td>\n",
       "      <td>12.17</td>\n",
       "      <td>12.34</td>\n",
       "      <td>9.888995</td>\n",
       "      <td>625400</td>\n",
       "    </tr>\n",
       "    <tr>\n",
       "      <th>2010-01-06</th>\n",
       "      <td>12.41</td>\n",
       "      <td>12.65</td>\n",
       "      <td>12.39</td>\n",
       "      <td>12.58</td>\n",
       "      <td>10.081329</td>\n",
       "      <td>604700</td>\n",
       "    </tr>\n",
       "    <tr>\n",
       "      <th>2010-01-07</th>\n",
       "      <td>12.60</td>\n",
       "      <td>12.70</td>\n",
       "      <td>12.24</td>\n",
       "      <td>12.45</td>\n",
       "      <td>9.977148</td>\n",
       "      <td>565300</td>\n",
       "    </tr>\n",
       "    <tr>\n",
       "      <th>2010-01-08</th>\n",
       "      <td>12.37</td>\n",
       "      <td>12.54</td>\n",
       "      <td>12.12</td>\n",
       "      <td>12.50</td>\n",
       "      <td>10.017215</td>\n",
       "      <td>521100</td>\n",
       "    </tr>\n",
       "  </tbody>\n",
       "</table>\n",
       "</div>"
      ],
      "text/plain": [
       "             Open   High    Low  Close  Adj Close  Volume\n",
       "Date                                                     \n",
       "2010-01-04  11.90  12.46  11.86  12.26   9.824886  838800\n",
       "2010-01-05  12.30  12.63  12.17  12.34   9.888995  625400\n",
       "2010-01-06  12.41  12.65  12.39  12.58  10.081329  604700\n",
       "2010-01-07  12.60  12.70  12.24  12.45   9.977148  565300\n",
       "2010-01-08  12.37  12.54  12.12  12.50  10.017215  521100"
      ]
     },
     "execution_count": 18,
     "metadata": {},
     "output_type": "execute_result"
    }
   ],
   "source": [
    "wti.head()"
   ]
  },
  {
   "cell_type": "markdown",
   "metadata": {},
   "source": [
    "One way to download the data for all of the stocks is in a `for` loop like the one below."
   ]
  },
  {
   "cell_type": "code",
   "execution_count": 19,
   "metadata": {},
   "outputs": [
    {
     "name": "stdout",
     "output_type": "stream",
     "text": [
      "WTI\n",
      "CHK\n",
      "TSLA\n",
      "CBAK\n"
     ]
    },
    {
     "ename": "RemoteDataError",
     "evalue": "Unable to read URL: https://query1.finance.yahoo.com/v7/finance/download/CBAK?period1=1262322000&period2=1420174799&interval=1d&events=history&crumb=%5Cu002FUtdSdjNRNd",
     "output_type": "error",
     "traceback": [
      "\u001b[1;31m---------------------------------------------------------------------------\u001b[0m",
      "\u001b[1;31mRemoteDataError\u001b[0m                           Traceback (most recent call last)",
      "\u001b[1;32m<ipython-input-19-cf55b4a97432>\u001b[0m in \u001b[0;36m<module>\u001b[1;34m()\u001b[0m\n\u001b[0;32m      1\u001b[0m \u001b[1;32mfor\u001b[0m \u001b[0msymbol\u001b[0m \u001b[1;32min\u001b[0m \u001b[0mticker_symbols\u001b[0m\u001b[1;33m:\u001b[0m\u001b[1;33m\u001b[0m\u001b[0m\n\u001b[0;32m      2\u001b[0m     \u001b[0mprint\u001b[0m\u001b[1;33m(\u001b[0m\u001b[0msymbol\u001b[0m\u001b[1;33m)\u001b[0m\u001b[1;33m\u001b[0m\u001b[0m\n\u001b[1;32m----> 3\u001b[1;33m     \u001b[0mdf\u001b[0m \u001b[1;33m=\u001b[0m \u001b[0mdata\u001b[0m\u001b[1;33m.\u001b[0m\u001b[0mget_data_yahoo\u001b[0m\u001b[1;33m(\u001b[0m\u001b[0msymbol\u001b[0m\u001b[1;33m,\u001b[0m\u001b[0mstart\u001b[0m\u001b[1;33m=\u001b[0m\u001b[0mstart\u001b[0m\u001b[1;33m,\u001b[0m\u001b[0mend\u001b[0m\u001b[1;33m=\u001b[0m\u001b[0mend\u001b[0m\u001b[1;33m)\u001b[0m\u001b[1;33m\u001b[0m\u001b[0m\n\u001b[0m",
      "\u001b[1;32mC:\\Users\\nlevy\\AppData\\Local\\Continuum\\Anaconda3\\lib\\site-packages\\pandas_datareader\\data.py\u001b[0m in \u001b[0;36mget_data_yahoo\u001b[1;34m(*args, **kwargs)\u001b[0m\n\u001b[0;32m     38\u001b[0m \u001b[1;33m\u001b[0m\u001b[0m\n\u001b[0;32m     39\u001b[0m \u001b[1;32mdef\u001b[0m \u001b[0mget_data_yahoo\u001b[0m\u001b[1;33m(\u001b[0m\u001b[1;33m*\u001b[0m\u001b[0margs\u001b[0m\u001b[1;33m,\u001b[0m \u001b[1;33m**\u001b[0m\u001b[0mkwargs\u001b[0m\u001b[1;33m)\u001b[0m\u001b[1;33m:\u001b[0m\u001b[1;33m\u001b[0m\u001b[0m\n\u001b[1;32m---> 40\u001b[1;33m     \u001b[1;32mreturn\u001b[0m \u001b[0mYahooDailyReader\u001b[0m\u001b[1;33m(\u001b[0m\u001b[1;33m*\u001b[0m\u001b[0margs\u001b[0m\u001b[1;33m,\u001b[0m \u001b[1;33m**\u001b[0m\u001b[0mkwargs\u001b[0m\u001b[1;33m)\u001b[0m\u001b[1;33m.\u001b[0m\u001b[0mread\u001b[0m\u001b[1;33m(\u001b[0m\u001b[1;33m)\u001b[0m\u001b[1;33m\u001b[0m\u001b[0m\n\u001b[0m\u001b[0;32m     41\u001b[0m \u001b[1;33m\u001b[0m\u001b[0m\n\u001b[0;32m     42\u001b[0m \u001b[1;33m\u001b[0m\u001b[0m\n",
      "\u001b[1;32mC:\\Users\\nlevy\\AppData\\Local\\Continuum\\Anaconda3\\lib\\site-packages\\pandas_datareader\\yahoo\\daily.py\u001b[0m in \u001b[0;36mread\u001b[1;34m(self)\u001b[0m\n\u001b[0;32m    113\u001b[0m         \u001b[1;34m\"\"\" read one data from specified URL \"\"\"\u001b[0m\u001b[1;33m\u001b[0m\u001b[0m\n\u001b[0;32m    114\u001b[0m         \u001b[1;32mtry\u001b[0m\u001b[1;33m:\u001b[0m\u001b[1;33m\u001b[0m\u001b[0m\n\u001b[1;32m--> 115\u001b[1;33m             \u001b[0mdf\u001b[0m \u001b[1;33m=\u001b[0m \u001b[0msuper\u001b[0m\u001b[1;33m(\u001b[0m\u001b[0mYahooDailyReader\u001b[0m\u001b[1;33m,\u001b[0m \u001b[0mself\u001b[0m\u001b[1;33m)\u001b[0m\u001b[1;33m.\u001b[0m\u001b[0mread\u001b[0m\u001b[1;33m(\u001b[0m\u001b[1;33m)\u001b[0m\u001b[1;33m\u001b[0m\u001b[0m\n\u001b[0m\u001b[0;32m    116\u001b[0m             \u001b[1;32mif\u001b[0m \u001b[0mself\u001b[0m\u001b[1;33m.\u001b[0m\u001b[0mret_index\u001b[0m\u001b[1;33m:\u001b[0m\u001b[1;33m\u001b[0m\u001b[0m\n\u001b[0;32m    117\u001b[0m                 \u001b[0mdf\u001b[0m\u001b[1;33m[\u001b[0m\u001b[1;34m'Ret_Index'\u001b[0m\u001b[1;33m]\u001b[0m \u001b[1;33m=\u001b[0m \u001b[0m_calc_return_index\u001b[0m\u001b[1;33m(\u001b[0m\u001b[0mdf\u001b[0m\u001b[1;33m[\u001b[0m\u001b[1;34m'Adj Close'\u001b[0m\u001b[1;33m]\u001b[0m\u001b[1;33m)\u001b[0m\u001b[1;33m\u001b[0m\u001b[0m\n",
      "\u001b[1;32mC:\\Users\\nlevy\\AppData\\Local\\Continuum\\Anaconda3\\lib\\site-packages\\pandas_datareader\\base.py\u001b[0m in \u001b[0;36mread\u001b[1;34m(self)\u001b[0m\n\u001b[0;32m    179\u001b[0m         \u001b[1;32mif\u001b[0m \u001b[0misinstance\u001b[0m\u001b[1;33m(\u001b[0m\u001b[0mself\u001b[0m\u001b[1;33m.\u001b[0m\u001b[0msymbols\u001b[0m\u001b[1;33m,\u001b[0m \u001b[1;33m(\u001b[0m\u001b[0mcompat\u001b[0m\u001b[1;33m.\u001b[0m\u001b[0mstring_types\u001b[0m\u001b[1;33m,\u001b[0m \u001b[0mint\u001b[0m\u001b[1;33m)\u001b[0m\u001b[1;33m)\u001b[0m\u001b[1;33m:\u001b[0m\u001b[1;33m\u001b[0m\u001b[0m\n\u001b[0;32m    180\u001b[0m             df = self._read_one_data(self.url,\n\u001b[1;32m--> 181\u001b[1;33m                                      params=self._get_params(self.symbols))\n\u001b[0m\u001b[0;32m    182\u001b[0m         \u001b[1;31m# Or multiple symbols, (e.g., ['GOOG', 'AAPL', 'MSFT'])\u001b[0m\u001b[1;33m\u001b[0m\u001b[1;33m\u001b[0m\u001b[0m\n\u001b[0;32m    183\u001b[0m         \u001b[1;32melif\u001b[0m \u001b[0misinstance\u001b[0m\u001b[1;33m(\u001b[0m\u001b[0mself\u001b[0m\u001b[1;33m.\u001b[0m\u001b[0msymbols\u001b[0m\u001b[1;33m,\u001b[0m \u001b[0mDataFrame\u001b[0m\u001b[1;33m)\u001b[0m\u001b[1;33m:\u001b[0m\u001b[1;33m\u001b[0m\u001b[0m\n",
      "\u001b[1;32mC:\\Users\\nlevy\\AppData\\Local\\Continuum\\Anaconda3\\lib\\site-packages\\pandas_datareader\\base.py\u001b[0m in \u001b[0;36m_read_one_data\u001b[1;34m(self, url, params)\u001b[0m\n\u001b[0;32m     77\u001b[0m         \u001b[1;34m\"\"\" read one data from specified URL \"\"\"\u001b[0m\u001b[1;33m\u001b[0m\u001b[0m\n\u001b[0;32m     78\u001b[0m         \u001b[1;32mif\u001b[0m \u001b[0mself\u001b[0m\u001b[1;33m.\u001b[0m\u001b[0m_format\u001b[0m \u001b[1;33m==\u001b[0m \u001b[1;34m'string'\u001b[0m\u001b[1;33m:\u001b[0m\u001b[1;33m\u001b[0m\u001b[0m\n\u001b[1;32m---> 79\u001b[1;33m             \u001b[0mout\u001b[0m \u001b[1;33m=\u001b[0m \u001b[0mself\u001b[0m\u001b[1;33m.\u001b[0m\u001b[0m_read_url_as_StringIO\u001b[0m\u001b[1;33m(\u001b[0m\u001b[0murl\u001b[0m\u001b[1;33m,\u001b[0m \u001b[0mparams\u001b[0m\u001b[1;33m=\u001b[0m\u001b[0mparams\u001b[0m\u001b[1;33m)\u001b[0m\u001b[1;33m\u001b[0m\u001b[0m\n\u001b[0m\u001b[0;32m     80\u001b[0m         \u001b[1;32melif\u001b[0m \u001b[0mself\u001b[0m\u001b[1;33m.\u001b[0m\u001b[0m_format\u001b[0m \u001b[1;33m==\u001b[0m \u001b[1;34m'json'\u001b[0m\u001b[1;33m:\u001b[0m\u001b[1;33m\u001b[0m\u001b[0m\n\u001b[0;32m     81\u001b[0m             \u001b[0mout\u001b[0m \u001b[1;33m=\u001b[0m \u001b[0mself\u001b[0m\u001b[1;33m.\u001b[0m\u001b[0m_get_response\u001b[0m\u001b[1;33m(\u001b[0m\u001b[0murl\u001b[0m\u001b[1;33m,\u001b[0m \u001b[0mparams\u001b[0m\u001b[1;33m=\u001b[0m\u001b[0mparams\u001b[0m\u001b[1;33m)\u001b[0m\u001b[1;33m.\u001b[0m\u001b[0mjson\u001b[0m\u001b[1;33m(\u001b[0m\u001b[1;33m)\u001b[0m\u001b[1;33m\u001b[0m\u001b[0m\n",
      "\u001b[1;32mC:\\Users\\nlevy\\AppData\\Local\\Continuum\\Anaconda3\\lib\\site-packages\\pandas_datareader\\base.py\u001b[0m in \u001b[0;36m_read_url_as_StringIO\u001b[1;34m(self, url, params)\u001b[0m\n\u001b[0;32m     88\u001b[0m         \u001b[0mOpen\u001b[0m \u001b[0murl\u001b[0m \u001b[1;33m(\u001b[0m\u001b[1;32mand\u001b[0m \u001b[0mretry\u001b[0m\u001b[1;33m)\u001b[0m\u001b[1;33m\u001b[0m\u001b[0m\n\u001b[0;32m     89\u001b[0m         \"\"\"\n\u001b[1;32m---> 90\u001b[1;33m         \u001b[0mresponse\u001b[0m \u001b[1;33m=\u001b[0m \u001b[0mself\u001b[0m\u001b[1;33m.\u001b[0m\u001b[0m_get_response\u001b[0m\u001b[1;33m(\u001b[0m\u001b[0murl\u001b[0m\u001b[1;33m,\u001b[0m \u001b[0mparams\u001b[0m\u001b[1;33m=\u001b[0m\u001b[0mparams\u001b[0m\u001b[1;33m)\u001b[0m\u001b[1;33m\u001b[0m\u001b[0m\n\u001b[0m\u001b[0;32m     91\u001b[0m         \u001b[0mtext\u001b[0m \u001b[1;33m=\u001b[0m \u001b[0mself\u001b[0m\u001b[1;33m.\u001b[0m\u001b[0m_sanitize_response\u001b[0m\u001b[1;33m(\u001b[0m\u001b[0mresponse\u001b[0m\u001b[1;33m)\u001b[0m\u001b[1;33m\u001b[0m\u001b[0m\n\u001b[0;32m     92\u001b[0m         \u001b[0mout\u001b[0m \u001b[1;33m=\u001b[0m \u001b[0mStringIO\u001b[0m\u001b[1;33m(\u001b[0m\u001b[1;33m)\u001b[0m\u001b[1;33m\u001b[0m\u001b[0m\n",
      "\u001b[1;32mC:\\Users\\nlevy\\AppData\\Local\\Continuum\\Anaconda3\\lib\\site-packages\\pandas_datareader\\base.py\u001b[0m in \u001b[0;36m_get_response\u001b[1;34m(self, url, params, headers)\u001b[0m\n\u001b[0;32m    137\u001b[0m         \u001b[1;32mif\u001b[0m \u001b[0mparams\u001b[0m \u001b[1;32mis\u001b[0m \u001b[1;32mnot\u001b[0m \u001b[1;32mNone\u001b[0m \u001b[1;32mand\u001b[0m \u001b[0mlen\u001b[0m\u001b[1;33m(\u001b[0m\u001b[0mparams\u001b[0m\u001b[1;33m)\u001b[0m \u001b[1;33m>\u001b[0m \u001b[1;36m0\u001b[0m\u001b[1;33m:\u001b[0m\u001b[1;33m\u001b[0m\u001b[0m\n\u001b[0;32m    138\u001b[0m             \u001b[0murl\u001b[0m \u001b[1;33m=\u001b[0m \u001b[0murl\u001b[0m \u001b[1;33m+\u001b[0m \u001b[1;34m\"?\"\u001b[0m \u001b[1;33m+\u001b[0m \u001b[0murlencode\u001b[0m\u001b[1;33m(\u001b[0m\u001b[0mparams\u001b[0m\u001b[1;33m)\u001b[0m\u001b[1;33m\u001b[0m\u001b[0m\n\u001b[1;32m--> 139\u001b[1;33m         \u001b[1;32mraise\u001b[0m \u001b[0mRemoteDataError\u001b[0m\u001b[1;33m(\u001b[0m\u001b[1;34m'Unable to read URL: {0}'\u001b[0m\u001b[1;33m.\u001b[0m\u001b[0mformat\u001b[0m\u001b[1;33m(\u001b[0m\u001b[0murl\u001b[0m\u001b[1;33m)\u001b[0m\u001b[1;33m)\u001b[0m\u001b[1;33m\u001b[0m\u001b[0m\n\u001b[0m\u001b[0;32m    140\u001b[0m \u001b[1;33m\u001b[0m\u001b[0m\n\u001b[0;32m    141\u001b[0m     \u001b[1;32mdef\u001b[0m \u001b[0m_get_crumb\u001b[0m\u001b[1;33m(\u001b[0m\u001b[0mself\u001b[0m\u001b[1;33m,\u001b[0m \u001b[1;33m*\u001b[0m\u001b[0margs\u001b[0m\u001b[1;33m)\u001b[0m\u001b[1;33m:\u001b[0m\u001b[1;33m\u001b[0m\u001b[0m\n",
      "\u001b[1;31mRemoteDataError\u001b[0m: Unable to read URL: https://query1.finance.yahoo.com/v7/finance/download/CBAK?period1=1262322000&period2=1420174799&interval=1d&events=history&crumb=%5Cu002FUtdSdjNRNd"
     ]
    }
   ],
   "source": [
    "for symbol in ticker_symbols:\n",
    "    print(symbol)\n",
    "    df = data.get_data_yahoo(symbol,start=start,end=end)"
   ]
  },
  {
   "cell_type": "markdown",
   "metadata": {},
   "source": [
    "A simpler solution is to just pass in a list of symbols, which pandas will automatically resolve for us."
   ]
  },
  {
   "cell_type": "code",
   "execution_count": 20,
   "metadata": {},
   "outputs": [],
   "source": [
    "panl = data.get_data_yahoo(ticker_symbols,start=start,end=end)"
   ]
  },
  {
   "cell_type": "markdown",
   "metadata": {},
   "source": [
    "Notice that I called this `panl` instead of something conventional like `df`. This is because this query returns a Python type that we have not encountered yet. It is a pandas `panel`. Panels are an advanced topic, and explaining their use cases is outside the scope of this course; however, we will cover the basics."
   ]
  },
  {
   "cell_type": "markdown",
   "metadata": {},
   "source": [
    "The word *panel* is derived from \"panel data.\"  In econometrics and statistics, panel data refers to a data set in which multiple units of analysis are observed over multiple time periods.  Such a data set requires specialized statistical modeling techniques for analysis.  \n",
    "\n",
    "A panel in pandas is a three-dimensional container for data. It is basically a three-dimensional DataFrame. We can query along each of those individual dimensions.\n",
    "\n",
    "**Warning:** Most of the time, the two definitions of *panel* line up nicely: a pandas panel is a great way to store most panel data.  There could be exceptions, however.  Not all three-dimensional data sets have a time dimension, for example.  As you continue in your training, it is important to keep the separate definitions in mind.  In particular, do not assume that everything you learn about pandas `panel` carries over to the statistical definition."
   ]
  },
  {
   "cell_type": "code",
   "execution_count": 21,
   "metadata": {},
   "outputs": [
    {
     "data": {
      "text/plain": [
       "<class 'pandas.core.panel.Panel'>\n",
       "Dimensions: 6 (items) x 1258 (major_axis) x 4 (minor_axis)\n",
       "Items axis: Adj Close to Volume\n",
       "Major_axis axis: 2010-01-04 00:00:00 to 2014-12-31 00:00:00\n",
       "Minor_axis axis: CBAK to WTI"
      ]
     },
     "execution_count": 21,
     "metadata": {},
     "output_type": "execute_result"
    }
   ],
   "source": [
    "panl"
   ]
  },
  {
   "cell_type": "markdown",
   "metadata": {},
   "source": [
    "\n",
    "We can see that our panel has three axes: an items axis, a major axis, and a minor axis. The major axis is the time axis.  The minor axis has the four companies (these are our principal units of analysis).  Finally, the items axis refers to the different variables: opening price, closing price, and so forth.\n",
    "\n",
    "Panels are a core part of pandas, but they are much less used in pandas and therefore are a bit neglected. Understand that we are not trying to avoid the topic; this is stated in the documentation.\n",
    "\n",
    "http://pandas-docs.github.io/pandas-docs-travis/dsintro.html#panel\n",
    "\n",
    "> Note: Unfortunately Panel, being less commonly used than Series and DataFrame, has been slightly neglected feature-wise. A number of methods and options available in DataFrame are not available in Panel. This will get worked on, of course, in future releases (and even faster if you join me in working on the codebase)."
   ]
  },
  {
   "cell_type": "code",
   "execution_count": 22,
   "metadata": {},
   "outputs": [
    {
     "data": {
      "text/plain": [
       "pandas.core.panel.Panel"
      ]
     },
     "execution_count": 22,
     "metadata": {},
     "output_type": "execute_result"
    }
   ],
   "source": [
    "type(panl)"
   ]
  },
  {
   "cell_type": "markdown",
   "metadata": {},
   "source": [
    "\n",
    "You are likely to run into panels at some point in your work, so lets touch on their behavior. Panels include a lot of the basic methods that we are comfortable with, like `shape`.\n"
   ]
  },
  {
   "cell_type": "code",
   "execution_count": 23,
   "metadata": {},
   "outputs": [
    {
     "data": {
      "text/plain": [
       "(6, 1258, 4)"
      ]
     },
     "execution_count": 23,
     "metadata": {},
     "output_type": "execute_result"
    }
   ],
   "source": [
    "panl.shape"
   ]
  },
  {
   "cell_type": "markdown",
   "metadata": {},
   "source": [
    "We have these three axes so when we want to query data, we need to do that a bit differently. Items are queried like standard DataFrame columns with dot syntax.\n"
   ]
  },
  {
   "cell_type": "code",
   "execution_count": 24,
   "metadata": {},
   "outputs": [
    {
     "data": {
      "text/html": [
       "<div>\n",
       "<style>\n",
       "    .dataframe thead tr:only-child th {\n",
       "        text-align: right;\n",
       "    }\n",
       "\n",
       "    .dataframe thead th {\n",
       "        text-align: left;\n",
       "    }\n",
       "\n",
       "    .dataframe tbody tr th {\n",
       "        vertical-align: top;\n",
       "    }\n",
       "</style>\n",
       "<table border=\"1\" class=\"dataframe\">\n",
       "  <thead>\n",
       "    <tr style=\"text-align: right;\">\n",
       "      <th></th>\n",
       "      <th>CBAK</th>\n",
       "      <th>CHK</th>\n",
       "      <th>TSLA</th>\n",
       "      <th>WTI</th>\n",
       "    </tr>\n",
       "    <tr>\n",
       "      <th>Date</th>\n",
       "      <th></th>\n",
       "      <th></th>\n",
       "      <th></th>\n",
       "      <th></th>\n",
       "    </tr>\n",
       "  </thead>\n",
       "  <tbody>\n",
       "    <tr>\n",
       "      <th>2010-01-04</th>\n",
       "      <td>14.5</td>\n",
       "      <td>25.950804</td>\n",
       "      <td>NaN</td>\n",
       "      <td>11.90</td>\n",
       "    </tr>\n",
       "    <tr>\n",
       "      <th>2010-01-05</th>\n",
       "      <td>13.6</td>\n",
       "      <td>26.773888</td>\n",
       "      <td>NaN</td>\n",
       "      <td>12.30</td>\n",
       "    </tr>\n",
       "    <tr>\n",
       "      <th>2010-01-06</th>\n",
       "      <td>14.9</td>\n",
       "      <td>27.634815</td>\n",
       "      <td>NaN</td>\n",
       "      <td>12.41</td>\n",
       "    </tr>\n",
       "    <tr>\n",
       "      <th>2010-01-07</th>\n",
       "      <td>14.5</td>\n",
       "      <td>27.086092</td>\n",
       "      <td>NaN</td>\n",
       "      <td>12.60</td>\n",
       "    </tr>\n",
       "    <tr>\n",
       "      <th>2010-01-08</th>\n",
       "      <td>14.5</td>\n",
       "      <td>26.859035</td>\n",
       "      <td>NaN</td>\n",
       "      <td>12.37</td>\n",
       "    </tr>\n",
       "  </tbody>\n",
       "</table>\n",
       "</div>"
      ],
      "text/plain": [
       "            CBAK        CHK  TSLA    WTI\n",
       "Date                                    \n",
       "2010-01-04  14.5  25.950804   NaN  11.90\n",
       "2010-01-05  13.6  26.773888   NaN  12.30\n",
       "2010-01-06  14.9  27.634815   NaN  12.41\n",
       "2010-01-07  14.5  27.086092   NaN  12.60\n",
       "2010-01-08  14.5  26.859035   NaN  12.37"
      ]
     },
     "execution_count": 24,
     "metadata": {},
     "output_type": "execute_result"
    }
   ],
   "source": [
    "panl.Open.head()"
   ]
  },
  {
   "cell_type": "markdown",
   "metadata": {},
   "source": [
    "The major and minor axes are done differently, with the major_xs and minor_xs commands. Notice how the `major_xs` conveniently accepts a date string and parses it for us."
   ]
  },
  {
   "cell_type": "code",
   "execution_count": 25,
   "metadata": {},
   "outputs": [
    {
     "data": {
      "text/html": [
       "<div>\n",
       "<style>\n",
       "    .dataframe thead tr:only-child th {\n",
       "        text-align: right;\n",
       "    }\n",
       "\n",
       "    .dataframe thead th {\n",
       "        text-align: left;\n",
       "    }\n",
       "\n",
       "    .dataframe tbody tr th {\n",
       "        vertical-align: top;\n",
       "    }\n",
       "</style>\n",
       "<table border=\"1\" class=\"dataframe\">\n",
       "  <thead>\n",
       "    <tr style=\"text-align: right;\">\n",
       "      <th></th>\n",
       "      <th>Adj Close</th>\n",
       "      <th>Close</th>\n",
       "      <th>High</th>\n",
       "      <th>Low</th>\n",
       "      <th>Open</th>\n",
       "      <th>Volume</th>\n",
       "    </tr>\n",
       "  </thead>\n",
       "  <tbody>\n",
       "    <tr>\n",
       "      <th>CBAK</th>\n",
       "      <td>0.770000</td>\n",
       "      <td>0.770000</td>\n",
       "      <td>0.790000</td>\n",
       "      <td>0.600000</td>\n",
       "      <td>0.620000</td>\n",
       "      <td>56800.0</td>\n",
       "    </tr>\n",
       "    <tr>\n",
       "      <th>CHK</th>\n",
       "      <td>17.569923</td>\n",
       "      <td>18.155155</td>\n",
       "      <td>18.902554</td>\n",
       "      <td>17.842951</td>\n",
       "      <td>18.826868</td>\n",
       "      <td>17267200.0</td>\n",
       "    </tr>\n",
       "    <tr>\n",
       "      <th>TSLA</th>\n",
       "      <td>53.279999</td>\n",
       "      <td>53.279999</td>\n",
       "      <td>55.990002</td>\n",
       "      <td>53.000000</td>\n",
       "      <td>55.990002</td>\n",
       "      <td>2742800.0</td>\n",
       "    </tr>\n",
       "    <tr>\n",
       "      <th>WTI</th>\n",
       "      <td>10.394898</td>\n",
       "      <td>11.220000</td>\n",
       "      <td>11.540000</td>\n",
       "      <td>11.030000</td>\n",
       "      <td>11.540000</td>\n",
       "      <td>720500.0</td>\n",
       "    </tr>\n",
       "  </tbody>\n",
       "</table>\n",
       "</div>"
      ],
      "text/plain": [
       "      Adj Close      Close       High        Low       Open      Volume\n",
       "CBAK   0.770000   0.770000   0.790000   0.600000   0.620000     56800.0\n",
       "CHK   17.569923  18.155155  18.902554  17.842951  18.826868  17267200.0\n",
       "TSLA  53.279999  53.279999  55.990002  53.000000  55.990002   2742800.0\n",
       "WTI   10.394898  11.220000  11.540000  11.030000  11.540000    720500.0"
      ]
     },
     "execution_count": 25,
     "metadata": {},
     "output_type": "execute_result"
    }
   ],
   "source": [
    "panl.major_xs('2013-5-1')"
   ]
  },
  {
   "cell_type": "code",
   "execution_count": 26,
   "metadata": {},
   "outputs": [
    {
     "data": {
      "text/html": [
       "<div>\n",
       "<style>\n",
       "    .dataframe thead tr:only-child th {\n",
       "        text-align: right;\n",
       "    }\n",
       "\n",
       "    .dataframe thead th {\n",
       "        text-align: left;\n",
       "    }\n",
       "\n",
       "    .dataframe tbody tr th {\n",
       "        vertical-align: top;\n",
       "    }\n",
       "</style>\n",
       "<table border=\"1\" class=\"dataframe\">\n",
       "  <thead>\n",
       "    <tr style=\"text-align: right;\">\n",
       "      <th></th>\n",
       "      <th>Adj Close</th>\n",
       "      <th>Close</th>\n",
       "      <th>High</th>\n",
       "      <th>Low</th>\n",
       "      <th>Open</th>\n",
       "      <th>Volume</th>\n",
       "    </tr>\n",
       "    <tr>\n",
       "      <th>Date</th>\n",
       "      <th></th>\n",
       "      <th></th>\n",
       "      <th></th>\n",
       "      <th></th>\n",
       "      <th></th>\n",
       "      <th></th>\n",
       "    </tr>\n",
       "  </thead>\n",
       "  <tbody>\n",
       "    <tr>\n",
       "      <th>2010-01-04</th>\n",
       "      <td>24.503799</td>\n",
       "      <td>26.575212</td>\n",
       "      <td>26.594135</td>\n",
       "      <td>25.468306</td>\n",
       "      <td>25.950804</td>\n",
       "      <td>31146800.0</td>\n",
       "    </tr>\n",
       "    <tr>\n",
       "      <th>2010-01-05</th>\n",
       "      <td>25.271461</td>\n",
       "      <td>27.407759</td>\n",
       "      <td>27.549669</td>\n",
       "      <td>26.679281</td>\n",
       "      <td>26.773888</td>\n",
       "      <td>28692600.0</td>\n",
       "    </tr>\n",
       "    <tr>\n",
       "      <th>2010-01-06</th>\n",
       "      <td>24.992317</td>\n",
       "      <td>27.105015</td>\n",
       "      <td>27.644276</td>\n",
       "      <td>26.991486</td>\n",
       "      <td>27.634815</td>\n",
       "      <td>16054900.0</td>\n",
       "    </tr>\n",
       "    <tr>\n",
       "      <th>2010-01-07</th>\n",
       "      <td>25.053375</td>\n",
       "      <td>27.171240</td>\n",
       "      <td>27.246925</td>\n",
       "      <td>26.660360</td>\n",
       "      <td>27.086092</td>\n",
       "      <td>13906600.0</td>\n",
       "    </tr>\n",
       "    <tr>\n",
       "      <th>2010-01-08</th>\n",
       "      <td>25.219124</td>\n",
       "      <td>27.350994</td>\n",
       "      <td>27.360455</td>\n",
       "      <td>26.537371</td>\n",
       "      <td>26.859035</td>\n",
       "      <td>11656300.0</td>\n",
       "    </tr>\n",
       "  </tbody>\n",
       "</table>\n",
       "</div>"
      ],
      "text/plain": [
       "            Adj Close      Close       High        Low       Open      Volume\n",
       "Date                                                                         \n",
       "2010-01-04  24.503799  26.575212  26.594135  25.468306  25.950804  31146800.0\n",
       "2010-01-05  25.271461  27.407759  27.549669  26.679281  26.773888  28692600.0\n",
       "2010-01-06  24.992317  27.105015  27.644276  26.991486  27.634815  16054900.0\n",
       "2010-01-07  25.053375  27.171240  27.246925  26.660360  27.086092  13906600.0\n",
       "2010-01-08  25.219124  27.350994  27.360455  26.537371  26.859035  11656300.0"
      ]
     },
     "execution_count": 26,
     "metadata": {},
     "output_type": "execute_result"
    }
   ],
   "source": [
    "panl.minor_xs('CHK').head()"
   ]
  },
  {
   "cell_type": "markdown",
   "metadata": {},
   "source": [
    "Some summary statistics are available to us such as the mean.  Notice that this computes the mean across the major axis, which is the time axis."
   ]
  },
  {
   "cell_type": "code",
   "execution_count": 27,
   "metadata": {},
   "outputs": [
    {
     "data": {
      "text/html": [
       "<div>\n",
       "<style>\n",
       "    .dataframe thead tr:only-child th {\n",
       "        text-align: right;\n",
       "    }\n",
       "\n",
       "    .dataframe thead th {\n",
       "        text-align: left;\n",
       "    }\n",
       "\n",
       "    .dataframe tbody tr th {\n",
       "        vertical-align: top;\n",
       "    }\n",
       "</style>\n",
       "<table border=\"1\" class=\"dataframe\">\n",
       "  <thead>\n",
       "    <tr style=\"text-align: right;\">\n",
       "      <th></th>\n",
       "      <th>Adj Close</th>\n",
       "      <th>Close</th>\n",
       "      <th>High</th>\n",
       "      <th>Low</th>\n",
       "      <th>Open</th>\n",
       "      <th>Volume</th>\n",
       "    </tr>\n",
       "  </thead>\n",
       "  <tbody>\n",
       "    <tr>\n",
       "      <th>CBAK</th>\n",
       "      <td>4.791367</td>\n",
       "      <td>4.791367</td>\n",
       "      <td>4.974396</td>\n",
       "      <td>4.660167</td>\n",
       "      <td>4.808331</td>\n",
       "      <td>1.172530e+05</td>\n",
       "    </tr>\n",
       "    <tr>\n",
       "      <th>CHK</th>\n",
       "      <td>21.921952</td>\n",
       "      <td>22.991252</td>\n",
       "      <td>23.339564</td>\n",
       "      <td>22.645711</td>\n",
       "      <td>23.019114</td>\n",
       "      <td>1.423089e+07</td>\n",
       "    </tr>\n",
       "    <tr>\n",
       "      <th>TSLA</th>\n",
       "      <td>88.177315</td>\n",
       "      <td>88.177315</td>\n",
       "      <td>89.988099</td>\n",
       "      <td>86.329102</td>\n",
       "      <td>88.218820</td>\n",
       "      <td>4.136642e+06</td>\n",
       "    </tr>\n",
       "    <tr>\n",
       "      <th>WTI</th>\n",
       "      <td>14.329300</td>\n",
       "      <td>16.069173</td>\n",
       "      <td>16.418887</td>\n",
       "      <td>15.720723</td>\n",
       "      <td>16.080199</td>\n",
       "      <td>8.069658e+05</td>\n",
       "    </tr>\n",
       "  </tbody>\n",
       "</table>\n",
       "</div>"
      ],
      "text/plain": [
       "      Adj Close      Close       High        Low       Open        Volume\n",
       "CBAK   4.791367   4.791367   4.974396   4.660167   4.808331  1.172530e+05\n",
       "CHK   21.921952  22.991252  23.339564  22.645711  23.019114  1.423089e+07\n",
       "TSLA  88.177315  88.177315  89.988099  86.329102  88.218820  4.136642e+06\n",
       "WTI   14.329300  16.069173  16.418887  15.720723  16.080199  8.069658e+05"
      ]
     },
     "execution_count": 27,
     "metadata": {},
     "output_type": "execute_result"
    }
   ],
   "source": [
    "panl.mean()"
   ]
  },
  {
   "cell_type": "markdown",
   "metadata": {},
   "source": [
    "We can perform different kinds of selections and transposition using the major and minor axes; however,  we will not cover this material. What we will do is convert this panel to a DataFrame. This will be a convenient way to introduce a new topic as well."
   ]
  },
  {
   "cell_type": "markdown",
   "metadata": {},
   "source": [
    "When we convert the `panel` to a `DataFrame` with the `to_frame` command, we will see that it looks a bit different, especially when we print out the data."
   ]
  },
  {
   "cell_type": "code",
   "execution_count": 28,
   "metadata": {},
   "outputs": [
    {
     "data": {
      "text/html": [
       "<div>\n",
       "<style>\n",
       "    .dataframe thead tr:only-child th {\n",
       "        text-align: right;\n",
       "    }\n",
       "\n",
       "    .dataframe thead th {\n",
       "        text-align: left;\n",
       "    }\n",
       "\n",
       "    .dataframe tbody tr th {\n",
       "        vertical-align: top;\n",
       "    }\n",
       "</style>\n",
       "<table border=\"1\" class=\"dataframe\">\n",
       "  <thead>\n",
       "    <tr style=\"text-align: right;\">\n",
       "      <th></th>\n",
       "      <th></th>\n",
       "      <th>Adj Close</th>\n",
       "      <th>Close</th>\n",
       "      <th>High</th>\n",
       "      <th>Low</th>\n",
       "      <th>Open</th>\n",
       "      <th>Volume</th>\n",
       "    </tr>\n",
       "    <tr>\n",
       "      <th>Date</th>\n",
       "      <th>minor</th>\n",
       "      <th></th>\n",
       "      <th></th>\n",
       "      <th></th>\n",
       "      <th></th>\n",
       "      <th></th>\n",
       "      <th></th>\n",
       "    </tr>\n",
       "  </thead>\n",
       "  <tbody>\n",
       "    <tr>\n",
       "      <th rowspan=\"3\" valign=\"top\">2010-01-04</th>\n",
       "      <th>CBAK</th>\n",
       "      <td>13.500000</td>\n",
       "      <td>13.500000</td>\n",
       "      <td>14.500000</td>\n",
       "      <td>13.350000</td>\n",
       "      <td>14.500000</td>\n",
       "      <td>456600.0</td>\n",
       "    </tr>\n",
       "    <tr>\n",
       "      <th>CHK</th>\n",
       "      <td>24.503799</td>\n",
       "      <td>26.575212</td>\n",
       "      <td>26.594135</td>\n",
       "      <td>25.468306</td>\n",
       "      <td>25.950804</td>\n",
       "      <td>31146800.0</td>\n",
       "    </tr>\n",
       "    <tr>\n",
       "      <th>WTI</th>\n",
       "      <td>9.824886</td>\n",
       "      <td>12.260000</td>\n",
       "      <td>12.460000</td>\n",
       "      <td>11.860000</td>\n",
       "      <td>11.900000</td>\n",
       "      <td>838800.0</td>\n",
       "    </tr>\n",
       "    <tr>\n",
       "      <th rowspan=\"2\" valign=\"top\">2010-01-05</th>\n",
       "      <th>CBAK</th>\n",
       "      <td>14.250000</td>\n",
       "      <td>14.250000</td>\n",
       "      <td>15.500000</td>\n",
       "      <td>13.450000</td>\n",
       "      <td>13.600000</td>\n",
       "      <td>1179500.0</td>\n",
       "    </tr>\n",
       "    <tr>\n",
       "      <th>CHK</th>\n",
       "      <td>25.271461</td>\n",
       "      <td>27.407759</td>\n",
       "      <td>27.549669</td>\n",
       "      <td>26.679281</td>\n",
       "      <td>26.773888</td>\n",
       "      <td>28692600.0</td>\n",
       "    </tr>\n",
       "  </tbody>\n",
       "</table>\n",
       "</div>"
      ],
      "text/plain": [
       "                  Adj Close      Close       High        Low       Open  \\\n",
       "Date       minor                                                          \n",
       "2010-01-04 CBAK   13.500000  13.500000  14.500000  13.350000  14.500000   \n",
       "           CHK    24.503799  26.575212  26.594135  25.468306  25.950804   \n",
       "           WTI     9.824886  12.260000  12.460000  11.860000  11.900000   \n",
       "2010-01-05 CBAK   14.250000  14.250000  15.500000  13.450000  13.600000   \n",
       "           CHK    25.271461  27.407759  27.549669  26.679281  26.773888   \n",
       "\n",
       "                      Volume  \n",
       "Date       minor              \n",
       "2010-01-04 CBAK     456600.0  \n",
       "           CHK    31146800.0  \n",
       "           WTI      838800.0  \n",
       "2010-01-05 CBAK    1179500.0  \n",
       "           CHK    28692600.0  "
      ]
     },
     "execution_count": 28,
     "metadata": {},
     "output_type": "execute_result"
    }
   ],
   "source": [
    "df = panl.to_frame()\n",
    "df.head()"
   ]
  },
  {
   "cell_type": "markdown",
   "metadata": {},
   "source": [
    "You can see that we have two indices on our data. More formally this is called a hierarchical or multi-index. Hierarchical indices are extremely powerful because they allow for a lot of creative querying. We will not go into them too deeply right now; however, we will touch on them a bit later in this section.\n",
    "\n",
    "What you need to know now is that there are levels that are stacked on one another and those can be queried. Formally, as you might have guessed, the different indices are known as *levels*."
   ]
  },
  {
   "cell_type": "code",
   "execution_count": 29,
   "metadata": {},
   "outputs": [
    {
     "data": {
      "text/plain": [
       "FrozenList([[2010-01-04 00:00:00, 2010-01-05 00:00:00, 2010-01-06 00:00:00, 2010-01-07 00:00:00, 2010-01-08 00:00:00, 2010-01-11 00:00:00, 2010-01-12 00:00:00, 2010-01-13 00:00:00, 2010-01-14 00:00:00, 2010-01-15 00:00:00, 2010-01-19 00:00:00, 2010-01-20 00:00:00, 2010-01-21 00:00:00, 2010-01-22 00:00:00, 2010-01-25 00:00:00, 2010-01-26 00:00:00, 2010-01-27 00:00:00, 2010-01-28 00:00:00, 2010-01-29 00:00:00, 2010-02-01 00:00:00, 2010-02-02 00:00:00, 2010-02-03 00:00:00, 2010-02-04 00:00:00, 2010-02-05 00:00:00, 2010-02-08 00:00:00, 2010-02-09 00:00:00, 2010-02-10 00:00:00, 2010-02-11 00:00:00, 2010-02-12 00:00:00, 2010-02-16 00:00:00, 2010-02-17 00:00:00, 2010-02-18 00:00:00, 2010-02-19 00:00:00, 2010-02-22 00:00:00, 2010-02-23 00:00:00, 2010-02-24 00:00:00, 2010-02-25 00:00:00, 2010-02-26 00:00:00, 2010-03-01 00:00:00, 2010-03-02 00:00:00, 2010-03-03 00:00:00, 2010-03-04 00:00:00, 2010-03-05 00:00:00, 2010-03-08 00:00:00, 2010-03-09 00:00:00, 2010-03-10 00:00:00, 2010-03-11 00:00:00, 2010-03-12 00:00:00, 2010-03-15 00:00:00, 2010-03-16 00:00:00, 2010-03-17 00:00:00, 2010-03-18 00:00:00, 2010-03-19 00:00:00, 2010-03-22 00:00:00, 2010-03-23 00:00:00, 2010-03-24 00:00:00, 2010-03-25 00:00:00, 2010-03-26 00:00:00, 2010-03-29 00:00:00, 2010-03-30 00:00:00, 2010-03-31 00:00:00, 2010-04-01 00:00:00, 2010-04-05 00:00:00, 2010-04-06 00:00:00, 2010-04-07 00:00:00, 2010-04-08 00:00:00, 2010-04-09 00:00:00, 2010-04-12 00:00:00, 2010-04-13 00:00:00, 2010-04-14 00:00:00, 2010-04-15 00:00:00, 2010-04-16 00:00:00, 2010-04-19 00:00:00, 2010-04-20 00:00:00, 2010-04-21 00:00:00, 2010-04-22 00:00:00, 2010-04-23 00:00:00, 2010-04-26 00:00:00, 2010-04-27 00:00:00, 2010-04-28 00:00:00, 2010-04-29 00:00:00, 2010-04-30 00:00:00, 2010-05-03 00:00:00, 2010-05-04 00:00:00, 2010-05-05 00:00:00, 2010-05-06 00:00:00, 2010-05-07 00:00:00, 2010-05-10 00:00:00, 2010-05-11 00:00:00, 2010-05-12 00:00:00, 2010-05-13 00:00:00, 2010-05-14 00:00:00, 2010-05-17 00:00:00, 2010-05-18 00:00:00, 2010-05-19 00:00:00, 2010-05-20 00:00:00, 2010-05-21 00:00:00, 2010-05-24 00:00:00, 2010-05-25 00:00:00, 2010-05-26 00:00:00, ...], ['CBAK', 'CHK', 'TSLA', 'WTI']])"
      ]
     },
     "execution_count": 29,
     "metadata": {},
     "output_type": "execute_result"
    }
   ],
   "source": [
    "df.index.levels"
   ]
  },
  {
   "cell_type": "code",
   "execution_count": 30,
   "metadata": {},
   "outputs": [
    {
     "name": "stdout",
     "output_type": "stream",
     "text": [
      "2\n"
     ]
    }
   ],
   "source": [
    "print(len(df.index.levels))"
   ]
  },
  {
   "cell_type": "markdown",
   "metadata": {},
   "source": [
    "Since we do not want to work with a hierarchical index right now, we will reset the index to get the data into a format that is a little less structured. Luckily, this is easy to do.\n",
    "\n",
    "You may often find yourself using the `reset_index` method just to get back to square one and start over when performing analysis. I find myself using it a lot simply because it helps me make sure that I understand what I am doing to my data and what format it is in."
   ]
  },
  {
   "cell_type": "code",
   "execution_count": 31,
   "metadata": {},
   "outputs": [
    {
     "data": {
      "text/html": [
       "<div>\n",
       "<style>\n",
       "    .dataframe thead tr:only-child th {\n",
       "        text-align: right;\n",
       "    }\n",
       "\n",
       "    .dataframe thead th {\n",
       "        text-align: left;\n",
       "    }\n",
       "\n",
       "    .dataframe tbody tr th {\n",
       "        vertical-align: top;\n",
       "    }\n",
       "</style>\n",
       "<table border=\"1\" class=\"dataframe\">\n",
       "  <thead>\n",
       "    <tr style=\"text-align: right;\">\n",
       "      <th></th>\n",
       "      <th>Date</th>\n",
       "      <th>minor</th>\n",
       "      <th>Adj Close</th>\n",
       "      <th>Close</th>\n",
       "      <th>High</th>\n",
       "      <th>Low</th>\n",
       "      <th>Open</th>\n",
       "      <th>Volume</th>\n",
       "    </tr>\n",
       "  </thead>\n",
       "  <tbody>\n",
       "    <tr>\n",
       "      <th>0</th>\n",
       "      <td>2010-01-04</td>\n",
       "      <td>CBAK</td>\n",
       "      <td>13.500000</td>\n",
       "      <td>13.500000</td>\n",
       "      <td>14.500000</td>\n",
       "      <td>13.350000</td>\n",
       "      <td>14.500000</td>\n",
       "      <td>456600.0</td>\n",
       "    </tr>\n",
       "    <tr>\n",
       "      <th>1</th>\n",
       "      <td>2010-01-04</td>\n",
       "      <td>CHK</td>\n",
       "      <td>24.503799</td>\n",
       "      <td>26.575212</td>\n",
       "      <td>26.594135</td>\n",
       "      <td>25.468306</td>\n",
       "      <td>25.950804</td>\n",
       "      <td>31146800.0</td>\n",
       "    </tr>\n",
       "    <tr>\n",
       "      <th>2</th>\n",
       "      <td>2010-01-04</td>\n",
       "      <td>WTI</td>\n",
       "      <td>9.824886</td>\n",
       "      <td>12.260000</td>\n",
       "      <td>12.460000</td>\n",
       "      <td>11.860000</td>\n",
       "      <td>11.900000</td>\n",
       "      <td>838800.0</td>\n",
       "    </tr>\n",
       "    <tr>\n",
       "      <th>3</th>\n",
       "      <td>2010-01-05</td>\n",
       "      <td>CBAK</td>\n",
       "      <td>14.250000</td>\n",
       "      <td>14.250000</td>\n",
       "      <td>15.500000</td>\n",
       "      <td>13.450000</td>\n",
       "      <td>13.600000</td>\n",
       "      <td>1179500.0</td>\n",
       "    </tr>\n",
       "    <tr>\n",
       "      <th>4</th>\n",
       "      <td>2010-01-05</td>\n",
       "      <td>CHK</td>\n",
       "      <td>25.271461</td>\n",
       "      <td>27.407759</td>\n",
       "      <td>27.549669</td>\n",
       "      <td>26.679281</td>\n",
       "      <td>26.773888</td>\n",
       "      <td>28692600.0</td>\n",
       "    </tr>\n",
       "  </tbody>\n",
       "</table>\n",
       "</div>"
      ],
      "text/plain": [
       "        Date minor  Adj Close      Close       High        Low       Open  \\\n",
       "0 2010-01-04  CBAK  13.500000  13.500000  14.500000  13.350000  14.500000   \n",
       "1 2010-01-04   CHK  24.503799  26.575212  26.594135  25.468306  25.950804   \n",
       "2 2010-01-04   WTI   9.824886  12.260000  12.460000  11.860000  11.900000   \n",
       "3 2010-01-05  CBAK  14.250000  14.250000  15.500000  13.450000  13.600000   \n",
       "4 2010-01-05   CHK  25.271461  27.407759  27.549669  26.679281  26.773888   \n",
       "\n",
       "       Volume  \n",
       "0    456600.0  \n",
       "1  31146800.0  \n",
       "2    838800.0  \n",
       "3   1179500.0  \n",
       "4  28692600.0  "
      ]
     },
     "execution_count": 31,
     "metadata": {},
     "output_type": "execute_result"
    }
   ],
   "source": [
    "df.reset_index().head()"
   ]
  },
  {
   "cell_type": "markdown",
   "metadata": {},
   "source": [
    "Remember, that does not happen in place by default, so we will probably want to set the `inplace` parameter in our method call."
   ]
  },
  {
   "cell_type": "code",
   "execution_count": 32,
   "metadata": {},
   "outputs": [],
   "source": [
    "df.reset_index(inplace=True)"
   ]
  },
  {
   "cell_type": "markdown",
   "metadata": {},
   "source": [
    "Now we have reset our index. \n",
    "\n",
    "The purpose of this lesson was to introduce you to some of these more advanced data representations and data source APIs. In the next video we will work with an airplane data set that will let us try out a lot of what we have learned."
   ]
  }
 ],
 "metadata": {
  "kernelspec": {
   "display_name": "Python 3",
   "language": "python",
   "name": "python3"
  },
  "language_info": {
   "codemirror_mode": {
    "name": "ipython",
    "version": 3
   },
   "file_extension": ".py",
   "mimetype": "text/x-python",
   "name": "python",
   "nbconvert_exporter": "python",
   "pygments_lexer": "ipython3",
   "version": "3.6.1"
  }
 },
 "nbformat": 4,
 "nbformat_minor": 1
}
