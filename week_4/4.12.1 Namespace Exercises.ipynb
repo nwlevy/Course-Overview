{
 "cells": [
  {
   "cell_type": "markdown",
   "metadata": {},
   "source": [
    "1. The following script defines a list of customer orders.  Each item in the list is a tuple containing the name of the item, the number requested, and the price per item.\n",
    "\n",
    "Fill in just the process_order function below without changing any other code. This function should remove one of the elements of the order list and print a nice message about it. Finally, make sure that the final print statement correctly displays the total price for the entire list."
   ]
  },
  {
   "cell_type": "code",
   "execution_count": 4,
   "metadata": {},
   "outputs": [
    {
     "name": "stdout",
     "output_type": "stream",
     "text": [
      "item: antacid\n",
      "volume: 1\n",
      "price: 5.33\n",
      "\n",
      "item: sour bites\n",
      "volume: 3\n",
      "price: 2.33\n",
      "\n",
      "item: gummy bears\n",
      "volume: 1\n",
      "price: 1.99\n",
      "\n",
      "item: oranges\n",
      "volume: 4\n",
      "price: 3.22\n",
      "\n",
      "total price:  27.19\n"
     ]
    }
   ],
   "source": [
    "total = 0\n",
    "\n",
    "def process_order(x_list):\n",
    "    order=x_list.pop()\n",
    "    item=\"item: \"+order[0]+'\\n'\n",
    "    volume=\"volume: \"+str(order[1])+'\\n'\n",
    "    price=\"price: \"+str(order[2])+'\\n'\n",
    "    global total\n",
    "    total=total+order[1]*order[2]\n",
    "    print(item+volume+price)\n",
    "    \n",
    "\n",
    "\n",
    "x = [(\"oranges\", 4, 3.22),(\"gummy bears\",1,1.99),(\"sour bites\", 3, 2.33), (\"antacid\", 1, 5.33)]\n",
    "while(len(x)>0):\n",
    "    process_order(x)\n",
    "print(\"total price: \", total)"
   ]
  },
  {
   "cell_type": "code",
   "execution_count": 3,
   "metadata": {},
   "outputs": [
    {
     "name": "stdout",
     "output_type": "stream",
     "text": [
      "item: antacid\n",
      "volume: 1\n",
      "price: 5.33\n",
      "\n"
     ]
    }
   ],
   "source": [
    "def process_order(x_list):\n",
    "    order=x_list.pop()\n",
    "    item=\"item: \"+order[0]+'\\n'\n",
    "    volume=\"volume: \"+str(order[1])+'\\n'\n",
    "    price=\"price: \"+str(order[2])+'\\n'\n",
    "    print(item+volume+price)\n",
    "x = [(\"oranges\", 4, 3.22),(\"gummy bears\",1,1.99),(\"sour bites\", 3, 2.33), (\"antacid\", 1, 5.33)]\n",
    "process_order(x)"
   ]
  },
  {
   "cell_type": "code",
   "execution_count": null,
   "metadata": {
    "collapsed": true
   },
   "outputs": [],
   "source": []
  }
 ],
 "metadata": {
  "kernelspec": {
   "display_name": "Python 3",
   "language": "python",
   "name": "python3"
  },
  "language_info": {
   "codemirror_mode": {
    "name": "ipython",
    "version": 3
   },
   "file_extension": ".py",
   "mimetype": "text/x-python",
   "name": "python",
   "nbconvert_exporter": "python",
   "pygments_lexer": "ipython3",
   "version": "3.6.1"
  }
 },
 "nbformat": 4,
 "nbformat_minor": 1
}
