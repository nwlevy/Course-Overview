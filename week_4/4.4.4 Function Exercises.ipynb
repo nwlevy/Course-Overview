{
 "cells": [
  {
   "cell_type": "markdown",
   "metadata": {},
   "source": [
    "Write a function, sum_digits which takes an int and returns the sum of its digits.\n",
    "\n",
    "Prompt the user for their phone number, x.  \n",
    "\n",
    "First, using your function, compute x minus the sum of the digits of x and store it in the variable result.\n",
    "\n",
    "Next, if result has more than one digit, replace it by the sum of the digits of result.  Do this repeatedly until the result has just one digit, then display it.  \n",
    "\n",
    "What number do you get?"
   ]
  },
  {
   "cell_type": "code",
   "execution_count": 9,
   "metadata": {},
   "outputs": [
    {
     "name": "stdout",
     "output_type": "stream",
     "text": [
      "Enter your number: 2035546436\n",
      "9\n"
     ]
    }
   ],
   "source": [
    "def sum_digits(x):\n",
    "    b=str(x)\n",
    "    sum=0\n",
    "    for i in range(len(b)):\n",
    "        sum=sum+int(b[i])\n",
    "    return sum\n",
    "    \n",
    "phone_num=int(input(\"Enter your number: \"))\n",
    "result=phone_num-sum_digits(phone_num)\n",
    "\n",
    "while len(str(result)) > 1:\n",
    "    result=sum_digits(result)\n",
    "print(result)\n",
    "    \n",
    "    "
   ]
  },
  {
   "cell_type": "code",
   "execution_count": 5,
   "metadata": {},
   "outputs": [
    {
     "name": "stdout",
     "output_type": "stream",
     "text": [
      "24\n"
     ]
    }
   ],
   "source": [
    "a=17349\n",
    "b=str(a)\n",
    "\n",
    "sum=0\n",
    "for i in range(len(b)):\n",
    "    sum=sum+int(b[i])\n",
    "\n",
    "print(sum)"
   ]
  },
  {
   "cell_type": "markdown",
   "metadata": {},
   "source": [
    "Write a function is_consonant() that takes a character and returns True if it is a consonant.\n",
    "\n",
    "Use your function to create a new fuction to_piglatin() that takes a word, moves all starting consonants to the end of the word, then adds ay to the end and returns the result.\n",
    "\n",
    "Prompt the user for their name and display the name in Pig Latin."
   ]
  },
  {
   "cell_type": "code",
   "execution_count": 24,
   "metadata": {
    "collapsed": true
   },
   "outputs": [],
   "source": [
    "def is_consonant(a):\n",
    "    if a in 'aeiouAEIOU':\n",
    "        return False\n",
    "    else:\n",
    "        return True\n",
    "def to_piglatin(word):\n",
    "    word_list=list(word)\n",
    "    is_vowel=False\n",
    "    consonant_list=[]\n",
    "    letter_index=0\n",
    "    while not is_vowel:\n",
    "        if is_consonant(word[letter_index]):\n",
    "            #print('consonant: ',word[letter_index])\n",
    "            word_list.append(word_list.pop(0))\n",
    "            letter_index+=1\n",
    "        else:\n",
    "            is_vowel=True\n",
    "    word_list.append('ay')\n",
    "    pig_latin_word=''.join(word_list)\n",
    "    return pig_latin_word\n",
    "            \n",
    "            \n",
    "            \n",
    "        \n",
    "    "
   ]
  },
  {
   "cell_type": "code",
   "execution_count": 23,
   "metadata": {},
   "outputs": [
    {
     "name": "stdout",
     "output_type": "stream",
     "text": [
      "S\n",
      "True\n",
      "t\n",
      "True\n",
      "r\n",
      "True\n"
     ]
    }
   ],
   "source": [
    "word=\"Strength\"\n",
    "word_list=list(word)\n",
    "letter_index=0\n",
    "print(word[letter_index])\n",
    "print(is_consonant(word[letter_index]))\n",
    "letter_index=1\n",
    "print(word[letter_index])\n",
    "print(is_consonant(word[letter_index]))\n",
    "letter_index=2\n",
    "print(word[letter_index])\n",
    "print(is_consonant(word[letter_index]))"
   ]
  },
  {
   "cell_type": "code",
   "execution_count": 26,
   "metadata": {},
   "outputs": [
    {
     "name": "stdout",
     "output_type": "stream",
     "text": [
      "Enter your name: Ephraim\n",
      "Your pig latin name is : Ephraimay\n"
     ]
    }
   ],
   "source": [
    "name = input(\"Enter your name: \")\n",
    "print('Your pig latin name is :',to_piglatin(name))"
   ]
  },
  {
   "cell_type": "code",
   "execution_count": null,
   "metadata": {
    "collapsed": true
   },
   "outputs": [],
   "source": []
  }
 ],
 "metadata": {
  "kernelspec": {
   "display_name": "Python 3",
   "language": "python",
   "name": "python3"
  },
  "language_info": {
   "codemirror_mode": {
    "name": "ipython",
    "version": 3
   },
   "file_extension": ".py",
   "mimetype": "text/x-python",
   "name": "python",
   "nbconvert_exporter": "python",
   "pygments_lexer": "ipython3",
   "version": "3.6.1"
  }
 },
 "nbformat": 4,
 "nbformat_minor": 1
}
